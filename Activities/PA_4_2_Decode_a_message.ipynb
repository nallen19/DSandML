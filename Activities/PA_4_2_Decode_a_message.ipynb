{
  "cells": [
    {
      "cell_type": "markdown",
      "metadata": {
        "id": "kPj76X_FP2uq"
      },
      "source": [
        "## Setup\n",
        "\n",
        "Run the code below to load the scrambled message:\n"
      ]
    },
    {
      "cell_type": "code",
      "execution_count": 1,
      "metadata": {},
      "outputs": [],
      "source": [
        "import ssl\n",
        "ssl._create_default_https_context = ssl._create_unverified_context"
      ]
    },
    {
      "cell_type": "code",
      "execution_count": 5,
      "metadata": {
        "id": "YwkYMR2qP2ur"
      },
      "outputs": [],
      "source": [
        "import pandas as pd\n",
        "import re\n",
        "\n",
        "message = pd.read_csv(\"https://www.dropbox.com/s/lgpn3vmksk3ssdo/scrambled_message.txt?dl=1\")['Word']"
      ]
    },
    {
      "cell_type": "code",
      "execution_count": 3,
      "metadata": {
        "colab": {
          "base_uri": "https://localhost:8080/"
        },
        "id": "rqykaCOxF1Z9",
        "outputId": "78651d97-c46b-4c24-b5e9-f67ae6a0ea1c"
      },
      "outputs": [
        {
          "data": {
            "text/plain": [
              "0                    Koila!\n",
              "1                     In   \n",
              "2                     kiew,\n",
              "3                         a\n",
              "4                 humble   \n",
              "               ...         \n",
              "122                     you\n",
              "123                 mabugh.\n",
              "124              ughhh?call\n",
              "125        meugh.ughhhh!   \n",
              "126                      K.\n",
              "Name: Word, Length: 127, dtype: object"
            ]
          },
          "execution_count": 3,
          "metadata": {},
          "output_type": "execute_result"
        }
      ],
      "source": [
        "message"
      ]
    },
    {
      "cell_type": "markdown",
      "metadata": {
        "id": "cI8ZE3LAP2us"
      },
      "source": [
        "In this activity, a \"word\" refers to any set of characters with no white space, even though they are not truly an English word.  That is, even though many of elements of the scrambled message vector are nonsense, and some have punctuation, you can consider each element to be a \"word\".\n",
        "\n",
        "Beware!  The object named `message` is a **pandas Series** of strings.  If you want to use functions that expect a string, rather than a series, remember `.apply()` and `lambda` functions.\n",
        "\n"
      ]
    },
    {
      "cell_type": "markdown",
      "metadata": {
        "id": "dYISAD8uQLAy"
      },
      "source": [
        "\n",
        "## Warm-up exercises\n",
        "\n",
        "1. How many characters are in the scrambled message?\n",
        "2. How many of these characters are white space?\n",
        "3. How many words are in the scrambled message?\n",
        "4. Show all the punctuation marks in the scrambled message.\n",
        "5. Print out, in all capitals, the longest word in the scrambled message.\n",
        "6. Print out every piece of a word that starts with the letter \"m\" and ends with the letter \"z\" in the scrambled message."
      ]
    },
    {
      "cell_type": "code",
      "execution_count": 6,
      "metadata": {
        "id": "6vB1tbjiQNvE"
      },
      "outputs": [
        {
          "data": {
            "text/plain": [
              "2670"
            ]
          },
          "execution_count": 6,
          "metadata": {},
          "output_type": "execute_result"
        }
      ],
      "source": [
        "m = ' '.join(message)\n",
        "len(m)"
      ]
    },
    {
      "cell_type": "code",
      "execution_count": 7,
      "metadata": {},
      "outputs": [
        {
          "data": {
            "text/plain": [
              "1778"
            ]
          },
          "execution_count": 7,
          "metadata": {},
          "output_type": "execute_result"
        }
      ],
      "source": [
        "len(re.findall(r\"\\s\", m))"
      ]
    },
    {
      "cell_type": "code",
      "execution_count": 8,
      "metadata": {},
      "outputs": [
        {
          "data": {
            "text/plain": [
              "151"
            ]
          },
          "execution_count": 8,
          "metadata": {},
          "output_type": "execute_result"
        }
      ],
      "source": [
        "len(re.findall(r\"\\b\\w+\\b\", m))"
      ]
    },
    {
      "cell_type": "code",
      "execution_count": 9,
      "metadata": {},
      "outputs": [
        {
          "data": {
            "text/plain": [
              "['!',\n",
              " ',',\n",
              " '?',\n",
              " ',',\n",
              " '!',\n",
              " '!',\n",
              " '.',\n",
              " '!',\n",
              " ',',\n",
              " '!',\n",
              " '?',\n",
              " '?',\n",
              " '?',\n",
              " '?',\n",
              " '?',\n",
              " ',',\n",
              " '?',\n",
              " '!',\n",
              " ',',\n",
              " '.',\n",
              " '?',\n",
              " ',',\n",
              " ',',\n",
              " '!',\n",
              " '.',\n",
              " '!',\n",
              " '?',\n",
              " '!',\n",
              " '!',\n",
              " ',',\n",
              " '.',\n",
              " '?',\n",
              " '?',\n",
              " '?',\n",
              " '.',\n",
              " '?',\n",
              " '?',\n",
              " '.',\n",
              " '.',\n",
              " ';',\n",
              " '?',\n",
              " ',',\n",
              " '!',\n",
              " '!',\n",
              " ',',\n",
              " '.',\n",
              " '?',\n",
              " '.',\n",
              " '?',\n",
              " '.',\n",
              " '!',\n",
              " '!',\n",
              " '.',\n",
              " '!',\n",
              " '!',\n",
              " '?',\n",
              " ',',\n",
              " '!',\n",
              " '?',\n",
              " '.',\n",
              " '!',\n",
              " '!',\n",
              " '!',\n",
              " '.',\n",
              " '?',\n",
              " '.',\n",
              " '!',\n",
              " '.']"
            ]
          },
          "execution_count": 9,
          "metadata": {},
          "output_type": "execute_result"
        }
      ],
      "source": [
        "re.findall(r\"[^\\w\\s]\", m)"
      ]
    },
    {
      "cell_type": "code",
      "execution_count": 11,
      "metadata": {},
      "outputs": [
        {
          "data": {
            "text/plain": [
              "'KAUDEVILLIANUGH'"
            ]
          },
          "execution_count": 11,
          "metadata": {},
          "output_type": "execute_result"
        }
      ],
      "source": [
        "words = re.findall(r\"\\b\\w+\\b\", m)\n",
        "max(words, key=len).upper()"
      ]
    },
    {
      "cell_type": "code",
      "execution_count": 13,
      "metadata": {},
      "outputs": [
        {
          "data": {
            "text/plain": [
              "['mosz', 'maaz']"
            ]
          },
          "execution_count": 13,
          "metadata": {},
          "output_type": "execute_result"
        }
      ],
      "source": [
        "re.findall(r'\\bm\\w*z', m, re.IGNORECASE)"
      ]
    },
    {
      "cell_type": "markdown",
      "metadata": {
        "id": "l3iJnnCJQOh7"
      },
      "source": [
        "\n",
        "\n",
        "## Decode a message\n",
        "\n",
        "Complete the following steps to decode the message.  \n",
        "\n",
        "1. Remove any spaces before or after each word.\n",
        "2. Any time you see the word \"ugh\", with any number of h's, followed by a punctuation mark, delete this.\n",
        "3. No word should be longer than 16 characters. Drop all extra characters beyond 13 off the end of each word.\n",
        "4. Replace all instances of exactly 2 a's with exactly 2 e's.\n",
        "5. Replace all z's with t's.\n",
        "6. Every word that ends in b, change that to a y.  *Hint: look out for punctuation!*\n",
        "7. Every word that starts with k, change that to a v.  *Hint: look out for capitalization!*\n",
        "8. Use `.join()` to recombine all your words into a message.\n",
        "9. Find the movie this quote is from."
      ]
    },
    {
      "cell_type": "code",
      "execution_count": 29,
      "metadata": {
        "id": "RRfjUzxMQQ5j"
      },
      "outputs": [
        {
          "data": {
            "text/plain": [
              "'Voila! In View, a humble Vaudevillian Veteran, cast Vicariously as both Victim !and Villain by the Vicissitudes !of fate. This! Visage, no! ?mere? Veneer ?of? ?vanity, ?is a Vestige of the Vox !populi now Vacant, Vanished.? However, this Valorous Visitation of a bygone Vexation stands Vivified, !and has. Vowed to! Vanquish these Venal? and! !virulent Vermin, Van guarding Vice. and Vouchsafing? the Violently Vicious ?and Voracious? Violation of Volition.? ?The. only Verdict is. Vengeance; a ?vendetta, held! !as a Votive not in Vain, for. the Value and? Veracity of. such shall ?one day. Vindicate the! Vigilant! and the Virtuous. Verily this Vichyssoise !of !verbiage Veers most? Verbose, so let me simply add! that its my ?very good honour. to! !meet you !and you may. ?call me.! V.'"
            ]
          },
          "execution_count": 29,
          "metadata": {},
          "output_type": "execute_result"
        }
      ],
      "source": [
        "message = message.apply(lambda x: x.strip())\n",
        "message = message.apply(lambda x: re.sub(r\"ugh+\\W\", \"\", x))\n",
        "message = message.apply(lambda x: x[:13])\n",
        "message = message.apply(lambda x: re.sub(r\"aa\", \"ee\", x))\n",
        "message = message.apply(lambda x: re.sub(r\"z\", \"t\", x))\n",
        "message = message.apply(lambda x: re.sub(r\"b(\\W|$)\", \"y\", x))\n",
        "message = message.apply(lambda x: re.sub(r'\\bk', 'v', x))\n",
        "' '.join(message)"
      ]
    }
  ],
  "metadata": {
    "colab": {
      "provenance": []
    },
    "kernelspec": {
      "display_name": "Python 3",
      "language": "python",
      "name": "python3"
    },
    "language_info": {
      "codemirror_mode": {
        "name": "ipython",
        "version": 3
      },
      "file_extension": ".py",
      "mimetype": "text/x-python",
      "name": "python",
      "nbconvert_exporter": "python",
      "pygments_lexer": "ipython3",
      "version": "3.10.4"
    }
  },
  "nbformat": 4,
  "nbformat_minor": 0
}

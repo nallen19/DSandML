{
  "cells": [
    {
      "cell_type": "markdown",
      "metadata": {
        "id": "r9YPMJZueiQ_"
      },
      "source": [
        "## Intro\n",
        "\n",
        "In this PA, you will practice altering data frame objects in order to solve a riddle.\n",
        "\n",
        "### Advice for troubleshooting your code\n",
        "\n",
        "#### Check results often\n",
        "\n",
        "If a chunk of code runs smoothly without giving you any error or warnings this does not necessarily mean it accomplished the desired task.\n",
        "\n",
        "It is a good habit to check the results of your code every time you finish a task.\n",
        "\n",
        "If you created or updated a data frame, make sure your edits did what you hoped.  Use the *Environment* or the `head()` function to investigate your changes.\n",
        "\n",
        "#### Document your work\n",
        "\n",
        "In the text before the code chunk, make sure to briefly state what the point of the chunk is.  This will remind later readers - which might be your future self! - what the desired output is.\n",
        "\n",
        "Use comments in the code to give quick explanations of the goals of complex steps.\n",
        "\n",
        "#### Two heads are better than one\n",
        "\n",
        "It can be hard to spot bugs in code that you yourself wrote.t\n",
        "(Have you ever sent a text message and not spotted an obvious  typo?  Same idea!)\n",
        "\n",
        "Work with people around you if you can - if something goes wrong, ask a friend to take a peek at your code and see if any glaring errors (like *syntax error*) pop out.\n",
        "\n",
        "#### Explain your code out loud\n",
        "\n",
        "The best way to troubleshoot a sneaky bug is to explain out loud each step of your code, and what you hoped to accomplish.\n",
        "\n",
        "If you are alone, try [Rubber Duck Debugging](https://en.wikipedia.org/wiki/Rubber_duck_debugging)!\n",
        "\n",
        "#### Google is your friend\n",
        "\n",
        "The whole of the internet is at your disposal!  Use it early, use it often.\n",
        "\n",
        "Copy-paste the exact error message into Google. Chances are, somebody else had a similar problem and got a similar message.\n",
        "\n",
        "\n",
        "Include package names in your search terms.  For example, \"bar plot in plotnine with pandas data frame\" is a better search than \"bar plot in python\".\n",
        "\n",
        "\n",
        "## Part One: Data import and cleaning\n",
        "\n",
        "This section will walk you through some steps to clean up today's dataset, so that you can use it more easily in Part Two.  \n",
        "\n",
        "First, we declare our package dependencies and load the data.\n",
        "\n",
        "(Note that the data loading function `read_csv` will give you an outpouring of helpful information about the dataset.  If you do not see the word \"error\", there is nothing to be concerned about.)\n"
      ]
    },
    {
      "cell_type": "code",
      "execution_count": 22,
      "metadata": {
        "id": "9asR0S4_eiRA"
      },
      "outputs": [
        {
          "data": {
            "text/html": [
              "<div>\n",
              "<style scoped>\n",
              "    .dataframe tbody tr th:only-of-type {\n",
              "        vertical-align: middle;\n",
              "    }\n",
              "\n",
              "    .dataframe tbody tr th {\n",
              "        vertical-align: top;\n",
              "    }\n",
              "\n",
              "    .dataframe thead th {\n",
              "        text-align: right;\n",
              "    }\n",
              "</style>\n",
              "<table border=\"1\" class=\"dataframe\">\n",
              "  <thead>\n",
              "    <tr style=\"text-align: right;\">\n",
              "      <th></th>\n",
              "      <th>Unnamed: 0</th>\n",
              "      <th>INSTNM</th>\n",
              "      <th>CITY</th>\n",
              "      <th>STABBR</th>\n",
              "      <th>ZIP</th>\n",
              "      <th>CONTROL</th>\n",
              "      <th>ADM_RATE</th>\n",
              "      <th>SAT_AVG</th>\n",
              "      <th>TUITIONFEE_IN</th>\n",
              "      <th>TUITIONFEE_OUT</th>\n",
              "      <th>...</th>\n",
              "      <th>LO_INC_COMP_2YR_TRANS_YR3_RT</th>\n",
              "      <th>NOLOAN_COMP_ORIG_YR4_RT</th>\n",
              "      <th>OPENADMP</th>\n",
              "      <th>PELL_COMP_4YR_TRANS_YR3_RT</th>\n",
              "      <th>DEATH_YR2_RT</th>\n",
              "      <th>NOLOAN_UNKN_ORIG_YR2_RT</th>\n",
              "      <th>NOT1STGEN_WDRAW_ORIG_YR6_RT</th>\n",
              "      <th>HI_INC_YR8_N</th>\n",
              "      <th>CUML_DEBT_P90</th>\n",
              "      <th>C100_L4</th>\n",
              "    </tr>\n",
              "  </thead>\n",
              "  <tbody>\n",
              "    <tr>\n",
              "      <th>0</th>\n",
              "      <td>1</td>\n",
              "      <td>Alabama A &amp; M University</td>\n",
              "      <td>Normal</td>\n",
              "      <td>AL</td>\n",
              "      <td>35762</td>\n",
              "      <td>1</td>\n",
              "      <td>0.9027</td>\n",
              "      <td>929.0</td>\n",
              "      <td>9857.0</td>\n",
              "      <td>18236.0</td>\n",
              "      <td>...</td>\n",
              "      <td>NaN</td>\n",
              "      <td>NaN</td>\n",
              "      <td>2.0</td>\n",
              "      <td>NaN</td>\n",
              "      <td>NaN</td>\n",
              "      <td>NaN</td>\n",
              "      <td>NaN</td>\n",
              "      <td>NaN</td>\n",
              "      <td>NaN</td>\n",
              "      <td>NaN</td>\n",
              "    </tr>\n",
              "    <tr>\n",
              "      <th>1</th>\n",
              "      <td>2</td>\n",
              "      <td>University of Alabama at Birmingham</td>\n",
              "      <td>Birmingham</td>\n",
              "      <td>AL</td>\n",
              "      <td>35294-0110</td>\n",
              "      <td>1</td>\n",
              "      <td>0.9181</td>\n",
              "      <td>1195.0</td>\n",
              "      <td>8328.0</td>\n",
              "      <td>19032.0</td>\n",
              "      <td>...</td>\n",
              "      <td>NaN</td>\n",
              "      <td>NaN</td>\n",
              "      <td>2.0</td>\n",
              "      <td>NaN</td>\n",
              "      <td>NaN</td>\n",
              "      <td>NaN</td>\n",
              "      <td>NaN</td>\n",
              "      <td>NaN</td>\n",
              "      <td>NaN</td>\n",
              "      <td>NaN</td>\n",
              "    </tr>\n",
              "    <tr>\n",
              "      <th>2</th>\n",
              "      <td>3</td>\n",
              "      <td>Amridge University</td>\n",
              "      <td>Montgomery</td>\n",
              "      <td>AL</td>\n",
              "      <td>36117-3553</td>\n",
              "      <td>2</td>\n",
              "      <td>NaN</td>\n",
              "      <td>NaN</td>\n",
              "      <td>6900.0</td>\n",
              "      <td>6900.0</td>\n",
              "      <td>...</td>\n",
              "      <td>NaN</td>\n",
              "      <td>NaN</td>\n",
              "      <td>1.0</td>\n",
              "      <td>NaN</td>\n",
              "      <td>NaN</td>\n",
              "      <td>NaN</td>\n",
              "      <td>NaN</td>\n",
              "      <td>NaN</td>\n",
              "      <td>NaN</td>\n",
              "      <td>NaN</td>\n",
              "    </tr>\n",
              "    <tr>\n",
              "      <th>3</th>\n",
              "      <td>4</td>\n",
              "      <td>University of Alabama in Huntsville</td>\n",
              "      <td>Huntsville</td>\n",
              "      <td>AL</td>\n",
              "      <td>35899</td>\n",
              "      <td>1</td>\n",
              "      <td>0.8123</td>\n",
              "      <td>1322.0</td>\n",
              "      <td>10280.0</td>\n",
              "      <td>21480.0</td>\n",
              "      <td>...</td>\n",
              "      <td>NaN</td>\n",
              "      <td>NaN</td>\n",
              "      <td>2.0</td>\n",
              "      <td>NaN</td>\n",
              "      <td>NaN</td>\n",
              "      <td>NaN</td>\n",
              "      <td>NaN</td>\n",
              "      <td>NaN</td>\n",
              "      <td>NaN</td>\n",
              "      <td>NaN</td>\n",
              "    </tr>\n",
              "    <tr>\n",
              "      <th>4</th>\n",
              "      <td>5</td>\n",
              "      <td>Alabama State University</td>\n",
              "      <td>Montgomery</td>\n",
              "      <td>AL</td>\n",
              "      <td>36104-0271</td>\n",
              "      <td>1</td>\n",
              "      <td>0.9787</td>\n",
              "      <td>935.0</td>\n",
              "      <td>11068.0</td>\n",
              "      <td>19396.0</td>\n",
              "      <td>...</td>\n",
              "      <td>NaN</td>\n",
              "      <td>NaN</td>\n",
              "      <td>2.0</td>\n",
              "      <td>NaN</td>\n",
              "      <td>NaN</td>\n",
              "      <td>NaN</td>\n",
              "      <td>NaN</td>\n",
              "      <td>NaN</td>\n",
              "      <td>NaN</td>\n",
              "      <td>NaN</td>\n",
              "    </tr>\n",
              "  </tbody>\n",
              "</table>\n",
              "<p>5 rows × 27 columns</p>\n",
              "</div>"
            ],
            "text/plain": [
              "   Unnamed: 0                               INSTNM        CITY STABBR  \\\n",
              "0           1             Alabama A & M University      Normal     AL   \n",
              "1           2  University of Alabama at Birmingham  Birmingham     AL   \n",
              "2           3                   Amridge University  Montgomery     AL   \n",
              "3           4  University of Alabama in Huntsville  Huntsville     AL   \n",
              "4           5             Alabama State University  Montgomery     AL   \n",
              "\n",
              "          ZIP  CONTROL  ADM_RATE  SAT_AVG  TUITIONFEE_IN  TUITIONFEE_OUT  ...  \\\n",
              "0       35762        1    0.9027    929.0         9857.0         18236.0  ...   \n",
              "1  35294-0110        1    0.9181   1195.0         8328.0         19032.0  ...   \n",
              "2  36117-3553        2       NaN      NaN         6900.0          6900.0  ...   \n",
              "3       35899        1    0.8123   1322.0        10280.0         21480.0  ...   \n",
              "4  36104-0271        1    0.9787    935.0        11068.0         19396.0  ...   \n",
              "\n",
              "   LO_INC_COMP_2YR_TRANS_YR3_RT  NOLOAN_COMP_ORIG_YR4_RT  OPENADMP  \\\n",
              "0                           NaN                      NaN       2.0   \n",
              "1                           NaN                      NaN       2.0   \n",
              "2                           NaN                      NaN       1.0   \n",
              "3                           NaN                      NaN       2.0   \n",
              "4                           NaN                      NaN       2.0   \n",
              "\n",
              "   PELL_COMP_4YR_TRANS_YR3_RT  DEATH_YR2_RT  NOLOAN_UNKN_ORIG_YR2_RT  \\\n",
              "0                         NaN           NaN                      NaN   \n",
              "1                         NaN           NaN                      NaN   \n",
              "2                         NaN           NaN                      NaN   \n",
              "3                         NaN           NaN                      NaN   \n",
              "4                         NaN           NaN                      NaN   \n",
              "\n",
              "   NOT1STGEN_WDRAW_ORIG_YR6_RT  HI_INC_YR8_N  CUML_DEBT_P90  C100_L4  \n",
              "0                          NaN           NaN            NaN      NaN  \n",
              "1                          NaN           NaN            NaN      NaN  \n",
              "2                          NaN           NaN            NaN      NaN  \n",
              "3                          NaN           NaN            NaN      NaN  \n",
              "4                          NaN           NaN            NaN      NaN  \n",
              "\n",
              "[5 rows x 27 columns]"
            ]
          },
          "execution_count": 22,
          "metadata": {},
          "output_type": "execute_result"
        }
      ],
      "source": [
        "import numpy as np\n",
        "import pandas as pd\n",
        "\n",
        "df_colleges = pd.read_csv('./colleges.csv')\n",
        "df_colleges.head()"
      ]
    },
    {
      "cell_type": "markdown",
      "metadata": {
        "id": "ZdYqoIsieiRB"
      },
      "source": [
        "The code chunks in this section will cause an error and/or do the desired task incorrectly.  (Even the chunks that run without error are not correct!) You will need to find the mistake, and correct it, to complete the intended action.\n",
        "\n",
        "None of the *text* is incorrect, only the *code* - your goal is to make the code do exactly what the documentation claims it will.\n",
        "\n",
        "#### 1. Narrow down the columns to variables of interest\n",
        "\n",
        "There are too many variables in this dataset.  We don't need all of them. We will limit our dataset down to only:\n",
        "\n",
        "Name of the institution\n",
        "City, State, and ZIP code of the institution\n",
        "The Admissions Rate\n",
        "The average SAT score\n",
        "The number of undergraduate students\n",
        "The in and out of state tuitions\n",
        "Whether the school is public or private\n",
        "The \"REGION\" variable.\n"
      ]
    },
    {
      "cell_type": "code",
      "execution_count": 23,
      "metadata": {
        "id": "1QZE0D5TeiRC"
      },
      "outputs": [
        {
          "data": {
            "text/html": [
              "<div>\n",
              "<style scoped>\n",
              "    .dataframe tbody tr th:only-of-type {\n",
              "        vertical-align: middle;\n",
              "    }\n",
              "\n",
              "    .dataframe tbody tr th {\n",
              "        vertical-align: top;\n",
              "    }\n",
              "\n",
              "    .dataframe thead th {\n",
              "        text-align: right;\n",
              "    }\n",
              "</style>\n",
              "<table border=\"1\" class=\"dataframe\">\n",
              "  <thead>\n",
              "    <tr style=\"text-align: right;\">\n",
              "      <th></th>\n",
              "      <th>INSTNM</th>\n",
              "      <th>CITY</th>\n",
              "      <th>STABBR</th>\n",
              "      <th>ZIP</th>\n",
              "      <th>CONTROL</th>\n",
              "      <th>ADM_RATE</th>\n",
              "      <th>SAT_AVG</th>\n",
              "      <th>TUITIONFEE_IN</th>\n",
              "      <th>TUITIONFEE_OUT</th>\n",
              "      <th>UGDS</th>\n",
              "      <th>REGION</th>\n",
              "    </tr>\n",
              "  </thead>\n",
              "  <tbody>\n",
              "    <tr>\n",
              "      <th>0</th>\n",
              "      <td>Alabama A &amp; M University</td>\n",
              "      <td>Normal</td>\n",
              "      <td>AL</td>\n",
              "      <td>35762</td>\n",
              "      <td>1</td>\n",
              "      <td>0.9027</td>\n",
              "      <td>929.0</td>\n",
              "      <td>9857.0</td>\n",
              "      <td>18236.0</td>\n",
              "      <td>4824.0</td>\n",
              "      <td>5</td>\n",
              "    </tr>\n",
              "    <tr>\n",
              "      <th>1</th>\n",
              "      <td>University of Alabama at Birmingham</td>\n",
              "      <td>Birmingham</td>\n",
              "      <td>AL</td>\n",
              "      <td>35294-0110</td>\n",
              "      <td>1</td>\n",
              "      <td>0.9181</td>\n",
              "      <td>1195.0</td>\n",
              "      <td>8328.0</td>\n",
              "      <td>19032.0</td>\n",
              "      <td>12866.0</td>\n",
              "      <td>5</td>\n",
              "    </tr>\n",
              "    <tr>\n",
              "      <th>2</th>\n",
              "      <td>Amridge University</td>\n",
              "      <td>Montgomery</td>\n",
              "      <td>AL</td>\n",
              "      <td>36117-3553</td>\n",
              "      <td>2</td>\n",
              "      <td>NaN</td>\n",
              "      <td>NaN</td>\n",
              "      <td>6900.0</td>\n",
              "      <td>6900.0</td>\n",
              "      <td>322.0</td>\n",
              "      <td>5</td>\n",
              "    </tr>\n",
              "    <tr>\n",
              "      <th>3</th>\n",
              "      <td>University of Alabama in Huntsville</td>\n",
              "      <td>Huntsville</td>\n",
              "      <td>AL</td>\n",
              "      <td>35899</td>\n",
              "      <td>1</td>\n",
              "      <td>0.8123</td>\n",
              "      <td>1322.0</td>\n",
              "      <td>10280.0</td>\n",
              "      <td>21480.0</td>\n",
              "      <td>6917.0</td>\n",
              "      <td>5</td>\n",
              "    </tr>\n",
              "    <tr>\n",
              "      <th>4</th>\n",
              "      <td>Alabama State University</td>\n",
              "      <td>Montgomery</td>\n",
              "      <td>AL</td>\n",
              "      <td>36104-0271</td>\n",
              "      <td>1</td>\n",
              "      <td>0.9787</td>\n",
              "      <td>935.0</td>\n",
              "      <td>11068.0</td>\n",
              "      <td>19396.0</td>\n",
              "      <td>4189.0</td>\n",
              "      <td>5</td>\n",
              "    </tr>\n",
              "  </tbody>\n",
              "</table>\n",
              "</div>"
            ],
            "text/plain": [
              "                                INSTNM        CITY STABBR         ZIP  \\\n",
              "0             Alabama A & M University      Normal     AL       35762   \n",
              "1  University of Alabama at Birmingham  Birmingham     AL  35294-0110   \n",
              "2                   Amridge University  Montgomery     AL  36117-3553   \n",
              "3  University of Alabama in Huntsville  Huntsville     AL       35899   \n",
              "4             Alabama State University  Montgomery     AL  36104-0271   \n",
              "\n",
              "   CONTROL  ADM_RATE  SAT_AVG  TUITIONFEE_IN  TUITIONFEE_OUT     UGDS  REGION  \n",
              "0        1    0.9027    929.0         9857.0         18236.0   4824.0       5  \n",
              "1        1    0.9181   1195.0         8328.0         19032.0  12866.0       5  \n",
              "2        2       NaN      NaN         6900.0          6900.0    322.0       5  \n",
              "3        1    0.8123   1322.0        10280.0         21480.0   6917.0       5  \n",
              "4        1    0.9787    935.0        11068.0         19396.0   4189.0       5  "
            ]
          },
          "execution_count": 23,
          "metadata": {},
          "output_type": "execute_result"
        }
      ],
      "source": [
        "cols = ['INSTNM', 'CITY', 'STABBR', 'ZIP', 'CONTROL', 'ADM_RATE', 'SAT_AVG', 'TUITIONFEE_IN', 'TUITIONFEE_OUT', 'UGDS', 'REGION']\n",
        "\n",
        "df_colleges_clean = df_colleges[cols]\n",
        "df_colleges_clean.head()"
      ]
    },
    {
      "cell_type": "markdown",
      "metadata": {
        "id": "p-0lfoOleiRC"
      },
      "source": [
        "#### 2. Remove observations that aren't needed\n",
        "\n",
        "Drop the schools that are \"private for-profit\" (category 3).  We will not need these for the puzzle.\n"
      ]
    },
    {
      "cell_type": "code",
      "execution_count": 24,
      "metadata": {
        "id": "E7Xx6YsKeiRC"
      },
      "outputs": [
        {
          "data": {
            "text/plain": [
              "CONTROL\n",
              "1    2063\n",
              "2    2026\n",
              "Name: count, dtype: int64"
            ]
          },
          "execution_count": 24,
          "metadata": {},
          "output_type": "execute_result"
        }
      ],
      "source": [
        "df_colleges_clean = df_colleges_clean[df_colleges_clean['CONTROL'] != 3]\n",
        "df_colleges_clean['CONTROL'].value_counts()"
      ]
    },
    {
      "cell_type": "markdown",
      "metadata": {
        "id": "NEM5H8nYeiRC"
      },
      "source": [
        "### 3. Adjust variable types: Numeric\n",
        "\n",
        "Some of the columns of the dataset were automatically understood by the computer to be categorical, due to missing data appearing like strings.\n",
        "\n",
        "Adjust the appropriate columns to be numeric.\n"
      ]
    },
    {
      "cell_type": "code",
      "execution_count": 25,
      "metadata": {
        "id": "cIOpSHCjeiRC"
      },
      "outputs": [],
      "source": [
        "df_colleges_clean['TUITIONFEE_IN'] = df_colleges_clean['TUITIONFEE_IN'].astype(float)\n",
        "\n",
        "df_colleges_clean['TUITIONFEE_OUT'] = df_colleges_clean['TUITIONFEE_OUT'].astype(float)\n",
        "\n",
        "df_colleges_clean['SAT_AVG'] = df_colleges_clean['SAT_AVG'].astype(float)\n",
        "\n",
        "df_colleges_clean['ADM_RATE'] = df_colleges_clean['ADM_RATE'].astype(float)"
      ]
    },
    {
      "cell_type": "markdown",
      "metadata": {
        "id": "zKH6226NeiRC"
      },
      "source": [
        "### 4. Adjust variable types: Categorical\n",
        "\n",
        "Similarly, columns of the dataset that are not numbers are automatically understood by the computer to be strings.\n",
        "\n",
        "We know, however, that some variables are truly *categorical*, in that there are only a few categories (or \"levels\") that can be values of the column.\n",
        "\n",
        "Adjust the appropriate columns to be understood as categorical.\n"
      ]
    },
    {
      "cell_type": "code",
      "execution_count": 26,
      "metadata": {
        "id": "TFBmCHMLeiRD"
      },
      "outputs": [],
      "source": [
        "df_colleges_clean['CONTROL'] = df_colleges_clean['CONTROL'].astype(str)\n",
        "df_colleges_clean['REGION'] = df_colleges_clean['REGION'].astype(str)"
      ]
    },
    {
      "cell_type": "markdown",
      "metadata": {
        "id": "ra03-sWbeiRD"
      },
      "source": [
        "#### 5. Calculate new variables\n",
        "\n",
        "Create a new variable called TUITION_DIFF which contains the difference between in and out of state costs.\n"
      ]
    },
    {
      "cell_type": "code",
      "execution_count": 27,
      "metadata": {
        "id": "i3gRwBgbeiRD"
      },
      "outputs": [],
      "source": [
        "df_colleges_clean['TUITION_DIFF'] = df_colleges_clean['TUITIONFEE_OUT'] - df_colleges_clean['TUITIONFEE_IN']"
      ]
    },
    {
      "cell_type": "markdown",
      "metadata": {
        "id": "aBNvuTWCeiRD"
      },
      "source": [
        "#### 6. Deal with missing data\n",
        "\n",
        "Drop all the rows with missing data.\n",
        "\n",
        "(It is often a terrible idea to simply drop all rows with *any* missing data!  Usually, even if *some* of the information is missing, we don't want to throw out the entire row.  In this example, however, we'll be lazy.)\n"
      ]
    },
    {
      "cell_type": "code",
      "execution_count": 30,
      "metadata": {
        "id": "520ghDYBeiRD"
      },
      "outputs": [],
      "source": [
        "df_colleges_clean = df_colleges_clean.dropna(axis=0)"
      ]
    },
    {
      "cell_type": "markdown",
      "metadata": {
        "id": "HviEJnpPeiRD"
      },
      "source": [
        "## Part Two:  Identify the mystery college\n",
        "\n",
        "Wow!  Your best friend Ephelia has been accepted to the college of her dreams!  Unfortunately, Ephelia is a very mysterious person, and she won't tell you directly which college this is.  You'll have to use her clues to figure out which school is her dream school.\n",
        "\n",
        "Clues:\n",
        "\n",
        "1. This college is located in Region 1.\n",
        "\n",
        "2. This college's admission rate is in the first quartile for the region.\n",
        "\n",
        "3. This college charges the same for in- and out-of-state tuition.\n",
        "\n",
        "4. The average SAT score of this college is an odd number.\n",
        "\n",
        "5. This college is NOT in New Hampshire or in the city of Boston.\n",
        "\n",
        "6. More than 3,000 people apply to this college every year.  (Hint: Make a new variable to compute how many people apply.  Assume the size of an incoming class is 1/4 of the total undergraduate population, and remember that not everyone who *applies* is *admitted*.)\n",
        "\n",
        "7. Ephelia is not going to an Ivy League school.\n",
        "\n",
        "8. Of the two options remaining at this step, Ephelia will attend the cheaper one.\n"
      ]
    },
    {
      "cell_type": "code",
      "execution_count": null,
      "metadata": {},
      "outputs": [],
      "source": []
    }
  ],
  "metadata": {
    "colab": {
      "provenance": []
    },
    "kernelspec": {
      "display_name": "Python 3 (ipykernel)",
      "language": "python",
      "name": "python3"
    },
    "language_info": {
      "codemirror_mode": {
        "name": "ipython",
        "version": 3
      },
      "file_extension": ".py",
      "mimetype": "text/x-python",
      "name": "python",
      "nbconvert_exporter": "python",
      "pygments_lexer": "ipython3",
      "version": "3.10.4"
    }
  },
  "nbformat": 4,
  "nbformat_minor": 0
}

{
  "cells": [
    {
      "cell_type": "markdown",
      "metadata": {
        "id": "qrJX4FDa8oA8"
      },
      "source": [
        "# XML, HTML, and Web Scraping\n",
        "\n",
        "JSON and XML are two different ways to represent hierarchical data. Which one is better? There are lots of articles online which discuss similarities and differences between JSON and XML and their advantages and disadvantages. Both formats are still in current usage, so it is good to be familiar with both. However, JSON is more common, so we'll focus on working with JSON representations of hierarchical data.\n",
        "\n",
        "The reading covered an example of using Beautiful Soup to parse XML. Rather than doing another example XML now, we'll skip straight to scraping HTML from a webpage. Both HTML and XML can be parsed in a similar way with Beautiful Soup."
      ]
    },
    {
      "cell_type": "code",
      "execution_count": 1,
      "metadata": {
        "id": "XZhT8jhbuZSg"
      },
      "outputs": [],
      "source": [
        "import pandas as pd"
      ]
    },
    {
      "cell_type": "markdown",
      "metadata": {
        "id": "ApqnMQ4iV4qu"
      },
      "source": [
        "## Scraping an HTML table with Beautiful Soup"
      ]
    },
    {
      "cell_type": "markdown",
      "metadata": {
        "id": "9SD7XOs_So3G"
      },
      "source": [
        "Open the URL https://en.wikipedia.org/wiki/List_of_United_States_cities_by_population and scroll down until you see a table of the cities in the U.S. with population over 100,000 (as of Jul 1, 2022). We'll use Beautiful Soup to scrape information from this table."
      ]
    },
    {
      "cell_type": "markdown",
      "metadata": {
        "id": "HRmnzgaQS_T0"
      },
      "source": [
        "Read in the HTML from the ULR using the `requests` library."
      ]
    },
    {
      "cell_type": "code",
      "execution_count": 2,
      "metadata": {
        "id": "xvYzbSospYVu"
      },
      "outputs": [],
      "source": [
        "import requests\n",
        "response = requests.get(\"https://en.wikipedia.org/wiki/List_of_United_States_cities_by_population\")"
      ]
    },
    {
      "cell_type": "markdown",
      "metadata": {
        "id": "YJ1Swg6B82_J"
      },
      "source": [
        "Use Beautiful Soup to parse this string into a tree called `soup`"
      ]
    },
    {
      "cell_type": "code",
      "execution_count": 3,
      "metadata": {
        "id": "e0jpmfwtpaEB"
      },
      "outputs": [],
      "source": [
        "from bs4 import BeautifulSoup\n",
        "soup = BeautifulSoup(response.content, \"html.parser\")"
      ]
    },
    {
      "cell_type": "markdown",
      "metadata": {
        "id": "lFxGW_KIDjnx"
      },
      "source": [
        "To find an HTML tag corresponding to a specific element on a webpage, right-click on it and choose \"Inspect element\". Go to the cities table Wikipedia page and do this now.\n",
        "\n",
        "You should find that the cities table on the Wikipedia page corresponds to the element\n",
        "\n",
        "```\n",
        "<table class=\"wikitable sortable jquery-tablesorter\" style=\"text-align:center\">\n",
        "```"
      ]
    },
    {
      "cell_type": "markdown",
      "metadata": {
        "id": "DR50aTBZEwov"
      },
      "source": [
        "There are many `<table>` tags on the page."
      ]
    },
    {
      "cell_type": "code",
      "execution_count": 4,
      "metadata": {
        "id": "4691d-EGEwc0"
      },
      "outputs": [
        {
          "data": {
            "text/plain": [
              "14"
            ]
          },
          "execution_count": 4,
          "metadata": {},
          "output_type": "execute_result"
        }
      ],
      "source": [
        "len(soup.find_all(\"table\"))"
      ]
    },
    {
      "cell_type": "markdown",
      "metadata": {
        "id": "H1xslM2yE1GI"
      },
      "source": [
        "We can use attributes like `class=` and `style=` to narrow down the list."
      ]
    },
    {
      "cell_type": "code",
      "execution_count": 5,
      "metadata": {
        "id": "E0Q0sa46DvTZ"
      },
      "outputs": [
        {
          "data": {
            "text/plain": [
              "3"
            ]
          },
          "execution_count": 5,
          "metadata": {},
          "output_type": "execute_result"
        }
      ],
      "source": [
        "len(soup.find_all(\"table\",\n",
        "                  attrs={\n",
        "                      \"class\": \"wikitable sortable\",\n",
        "                      \"style\": \"text-align:center\"}\n",
        "                  ))"
      ]
    },
    {
      "cell_type": "markdown",
      "metadata": {
        "id": "ndnRSJJiFFby"
      },
      "source": [
        "At this point, you can manually inspect the tables on the webpage to find that the one we want is the first one (see `[0]` below). We'll store this as `table`."
      ]
    },
    {
      "cell_type": "code",
      "execution_count": 7,
      "metadata": {
        "id": "sRBSqVGlYhuT"
      },
      "outputs": [],
      "source": [
        "table = soup.find_all(\"table\",\n",
        "                  attrs={\n",
        "                      \"class\": \"wikitable sortable\",\n",
        "                      \"style\": \"text-align:center\"}\n",
        "                  )[0]"
      ]
    },
    {
      "cell_type": "markdown",
      "metadata": {
        "id": "j4AWo3QoYqNY"
      },
      "source": [
        "**Now you will write code to scrape the information in `table` to create a Pandas data frame with one row for each city and columns for: city, state, population (2022 estimate), and 2020 land area (sq mi).** Refer to the Notes/suggestions below as you write your code. A few Hints are provided further down, but try coding first before looking at the hints."
      ]
    },
    {
      "cell_type": "markdown",
      "metadata": {
        "id": "KfRx2_XlDUqD"
      },
      "source": [
        "Notes/suggestions:\n",
        "\n",
        "- Use as a guide the code from the reading that produced the data frame of Statistics faculty\n",
        "- Inspect the page source as you write your code\n",
        "- You will need to write a loop to get the information for all cities, but you might want to try just scraping the info for New York first\n",
        "- You will need to pull the text from the tag. If `.text` returns text with \"\\n\" at the end, try `.get_text(strip = True)` instead of `.text`\n",
        "- Don't forget to convert to a Pandas Data Frame; it should have 333 rows and 4 columns\n",
        "- The goal of this exercise is just to create the Data Frame. If you were going to use it --- e.g., what is the population density for all cities in CA? --- then you would need to clean the data first (to clean strings and convert to quantitative). (You can use Beautiful Soup to do some of the cleaning for you, but that goes beyond our scope.)"
      ]
    },
    {
      "cell_type": "code",
      "execution_count": 59,
      "metadata": {
        "id": "msKiUcOZpSX7"
      },
      "outputs": [],
      "source": [
        "import re\n",
        "\n",
        "rows = []\n",
        "for row in table.find_all('tr')[1:]:\n",
        "    cells = row.find_all('td')\n",
        "    city = cells[0].find(\"a\").text\n",
        "    state = cells[1].find(\"a\").text\n",
        "    pop = cells[2].get_text(strip=True)\n",
        "    land = cells[5].text\n",
        "    land = re.search(r\"\\d+\\.\\d+\", land).group()\n",
        "\n",
        "    rows.append({\"city\": city,\n",
        "                 \"state\": state,\n",
        "                 \"population\": pop,\n",
        "                 \"land\": float(land)})"
      ]
    },
    {
      "cell_type": "code",
      "execution_count": 61,
      "metadata": {
        "id": "1M23w-PPtUyw"
      },
      "outputs": [
        {
          "data": {
            "text/html": [
              "<div>\n",
              "<style scoped>\n",
              "    .dataframe tbody tr th:only-of-type {\n",
              "        vertical-align: middle;\n",
              "    }\n",
              "\n",
              "    .dataframe tbody tr th {\n",
              "        vertical-align: top;\n",
              "    }\n",
              "\n",
              "    .dataframe thead th {\n",
              "        text-align: right;\n",
              "    }\n",
              "</style>\n",
              "<table border=\"1\" class=\"dataframe\">\n",
              "  <thead>\n",
              "    <tr style=\"text-align: right;\">\n",
              "      <th></th>\n",
              "      <th>city</th>\n",
              "      <th>state</th>\n",
              "      <th>population</th>\n",
              "      <th>land</th>\n",
              "    </tr>\n",
              "  </thead>\n",
              "  <tbody>\n",
              "    <tr>\n",
              "      <th>0</th>\n",
              "      <td>New York</td>\n",
              "      <td>New York</td>\n",
              "      <td>8,335,897</td>\n",
              "      <td>300.5</td>\n",
              "    </tr>\n",
              "    <tr>\n",
              "      <th>1</th>\n",
              "      <td>Los Angeles</td>\n",
              "      <td>California</td>\n",
              "      <td>3,822,238</td>\n",
              "      <td>469.5</td>\n",
              "    </tr>\n",
              "    <tr>\n",
              "      <th>2</th>\n",
              "      <td>Chicago</td>\n",
              "      <td>Illinois</td>\n",
              "      <td>2,665,039</td>\n",
              "      <td>227.7</td>\n",
              "    </tr>\n",
              "    <tr>\n",
              "      <th>3</th>\n",
              "      <td>Houston</td>\n",
              "      <td>Texas</td>\n",
              "      <td>2,302,878</td>\n",
              "      <td>640.4</td>\n",
              "    </tr>\n",
              "    <tr>\n",
              "      <th>4</th>\n",
              "      <td>Phoenix</td>\n",
              "      <td>Arizona</td>\n",
              "      <td>1,644,409</td>\n",
              "      <td>518.0</td>\n",
              "    </tr>\n",
              "    <tr>\n",
              "      <th>...</th>\n",
              "      <td>...</td>\n",
              "      <td>...</td>\n",
              "      <td>...</td>\n",
              "      <td>...</td>\n",
              "    </tr>\n",
              "    <tr>\n",
              "      <th>328</th>\n",
              "      <td>Albany</td>\n",
              "      <td>New York</td>\n",
              "      <td>100,826</td>\n",
              "      <td>21.4</td>\n",
              "    </tr>\n",
              "    <tr>\n",
              "      <th>329</th>\n",
              "      <td>Hesperia</td>\n",
              "      <td>California</td>\n",
              "      <td>100,744</td>\n",
              "      <td>72.7</td>\n",
              "    </tr>\n",
              "    <tr>\n",
              "      <th>330</th>\n",
              "      <td>New Bedford</td>\n",
              "      <td>Massachusetts</td>\n",
              "      <td>100,682</td>\n",
              "      <td>20.0</td>\n",
              "    </tr>\n",
              "    <tr>\n",
              "      <th>331</th>\n",
              "      <td>Davenport</td>\n",
              "      <td>Iowa</td>\n",
              "      <td>100,486</td>\n",
              "      <td>63.8</td>\n",
              "    </tr>\n",
              "    <tr>\n",
              "      <th>332</th>\n",
              "      <td>Daly City</td>\n",
              "      <td>California</td>\n",
              "      <td>100,007</td>\n",
              "      <td>7.6</td>\n",
              "    </tr>\n",
              "  </tbody>\n",
              "</table>\n",
              "<p>333 rows × 4 columns</p>\n",
              "</div>"
            ],
            "text/plain": [
              "            city          state population   land\n",
              "0       New York       New York  8,335,897  300.5\n",
              "1    Los Angeles     California  3,822,238  469.5\n",
              "2        Chicago       Illinois  2,665,039  227.7\n",
              "3        Houston          Texas  2,302,878  640.4\n",
              "4        Phoenix        Arizona  1,644,409  518.0\n",
              "..           ...            ...        ...    ...\n",
              "328       Albany       New York    100,826   21.4\n",
              "329     Hesperia     California    100,744   72.7\n",
              "330  New Bedford  Massachusetts    100,682   20.0\n",
              "331    Davenport           Iowa    100,486   63.8\n",
              "332    Daly City     California    100,007    7.6\n",
              "\n",
              "[333 rows x 4 columns]"
            ]
          },
          "execution_count": 61,
          "metadata": {},
          "output_type": "execute_result"
        }
      ],
      "source": [
        "pd.DataFrame(rows)"
      ]
    },
    {
      "cell_type": "markdown",
      "metadata": {
        "id": "6s3tH82XZ1X0"
      },
      "source": [
        "Hints:\n",
        "\n",
        "- Each city is a row in the table; find all the `<tr>` tags to find all the cities\n",
        "- Look for the `<td>` tag to see table entries within a row\n",
        "- The rank column is represented by `<th>` tags, rather than `<td>` tags. So within a row, the first (that is, `[0]`) `<td>` tag corresponds to the city name."
      ]
    },
    {
      "cell_type": "markdown",
      "metadata": {
        "id": "pIW4UgURNdhz"
      },
      "source": [
        "## Aside: Scraping an HTML table with Pandas\n",
        "\n"
      ]
    },
    {
      "cell_type": "markdown",
      "metadata": {
        "id": "R2ufAAMGYenH"
      },
      "source": [
        "The Pandas command `read_html` can be used to scrape information from an HTML table on a webpage.\n",
        "\n",
        "We can call `read_html` on the URL."
      ]
    },
    {
      "cell_type": "code",
      "execution_count": 67,
      "metadata": {},
      "outputs": [],
      "source": [
        "import ssl\n",
        "ssl._create_default_https_context = ssl._create_unverified_context"
      ]
    },
    {
      "cell_type": "code",
      "execution_count": 68,
      "metadata": {
        "id": "YnGD1hMbpv7H"
      },
      "outputs": [
        {
          "data": {
            "text/plain": [
              "[                                                   0\n",
              " 0           Map all coordinates using: OpenStreetMap\n",
              " 1  Download coordinates as: KML GPX (all coordina...,\n",
              "                     Population tables of U.S. cities\n",
              " 0                                             Cities\n",
              " 1  Population AreaDensityEthnic identityForeign-b...\n",
              " 2                                        Urban areas\n",
              " 3             Populous cities and metropolitan areas\n",
              " 4                                 Metropolitan areas\n",
              " 5  563 primary statistical areas175 combined stat...\n",
              " 6                                        Megaregions\n",
              " 7  See related population listsNorth American met...\n",
              " 8                                                vte,\n",
              "                                                    0\n",
              " 0  Map this section's coordinates using: OpenStre...\n",
              " 1  Download coordinates as: KML GPX (all coordina...,\n",
              "     0                               1\n",
              " 0 NaN                   State capital\n",
              " 1 NaN              State largest city\n",
              " 2 NaN  State capital and largest city\n",
              " 3 NaN                 Federal capital,\n",
              "      2022 rank         City       State[c]  2022 estimate  2020 census  \\\n",
              " 0            1  New York[d]       New York        8335897      8804190   \n",
              " 1            2  Los Angeles     California        3822238      3898747   \n",
              " 2            3      Chicago       Illinois        2665039      2746388   \n",
              " 3            4      Houston          Texas        2302878      2304580   \n",
              " 4            5      Phoenix        Arizona        1644409      1608139   \n",
              " ..         ...          ...            ...            ...          ...   \n",
              " 328        329       Albany       New York         100826        99224   \n",
              " 329        330     Hesperia     California         100744        99818   \n",
              " 330        331  New Bedford  Massachusetts         100682       101079   \n",
              " 331        332    Davenport           Iowa         100486       101724   \n",
              " 332        333    Daly City     California         100007       104901   \n",
              " \n",
              "      Change 2020 land area 2020 land area.1 2020 population density  \\\n",
              " 0    −5.32%    300.5 sq mi        778.3 km2            29,298/sq mi   \n",
              " 1    −1.96%    469.5 sq mi      1,216.0 km2             8,304/sq mi   \n",
              " 2    −2.96%    227.7 sq mi        589.7 km2            12,061/sq mi   \n",
              " 3    −0.07%    640.4 sq mi      1,658.6 km2             3,599/sq mi   \n",
              " 4    +2.26%    518.0 sq mi      1,341.6 km2             3,105/sq mi   \n",
              " ..      ...            ...              ...                     ...   \n",
              " 328  +1.61%     21.4 sq mi         55.4 km2             4,637/sq mi   \n",
              " 329  +0.93%     72.7 sq mi        188.3 km2             1,373/sq mi   \n",
              " 330  −0.39%     20.0 sq mi         51.8 km2             5,054/sq mi   \n",
              " 331  −1.22%     63.8 sq mi        165.2 km2             1,594/sq mi   \n",
              " 332  −4.67%      7.6 sq mi         19.7 km2            13,803/sq mi   \n",
              " \n",
              "     2020 population density.1                               Location  \n",
              " 0                  11,312/km2    40°40′N 73°56′W﻿ / ﻿40.66°N 73.94°W  \n",
              " 1                   3,206/km2  34°01′N 118°25′W﻿ / ﻿34.02°N 118.41°W  \n",
              " 2                   4,657/km2    41°50′N 87°41′W﻿ / ﻿41.84°N 87.68°W  \n",
              " 3                   1,390/km2    29°47′N 95°23′W﻿ / ﻿29.79°N 95.39°W  \n",
              " 4                   1,199/km2  33°34′N 112°05′W﻿ / ﻿33.57°N 112.09°W  \n",
              " ..                        ...                                    ...  \n",
              " 328                 1,790/km2    42°40′N 73°48′W﻿ / ﻿42.67°N 73.80°W  \n",
              " 329                   530/km2  34°24′N 117°19′W﻿ / ﻿34.40°N 117.32°W  \n",
              " 330                 1,951/km2    41°40′N 70°56′W﻿ / ﻿41.66°N 70.94°W  \n",
              " 331                   615/km2    41°34′N 90°36′W﻿ / ﻿41.56°N 90.60°W  \n",
              " 332                 5,329/km2  37°41′N 122°28′W﻿ / ﻿37.69°N 122.47°W  \n",
              " \n",
              " [333 rows x 11 columns],\n",
              "         Population  Number of municipal governments\n",
              " 0       1,000,000+                                9\n",
              " 1  700,000–999,999                               10\n",
              " 2  500,000–699,999                               18\n",
              " 3  400,000–499,999                               11\n",
              " 4  300,000–399,999                               21\n",
              " 5  200,000–299,999                               56\n",
              " 6  100,000–199,999                              208\n",
              " 7            Total                              333,\n",
              "                                          State  Number of listed cities\n",
              " 0                                           CA                       75\n",
              " 1                                           TX                       42\n",
              " 2                                           FL                       22\n",
              " 3                                       AZ, CO                       12\n",
              " 4                                           NC                       10\n",
              " 5                                       MA, WA                        9\n",
              " 6                                       GA, IL                        8\n",
              " 7                                   MI, NJ, VA                        7\n",
              " 8                       MO, IN, NY, OH, OR, TN                        6\n",
              " 9                           AL, CT, KS, NV, UT                        5\n",
              " 10                                      LA, OK                        4\n",
              " 11                  IA, ID, MN, NM, PA, SC, WI                        3\n",
              " 12                                      KY, NE                        2\n",
              " 13  AK, AR, DC, HI, MD, MS, MT, ND, NH, RI, SD                        1\n",
              " 14                          DE, ME, VT, WV, WY                        0,\n",
              "                                                    0\n",
              " 0  Map this section's coordinates using: OpenStre...\n",
              " 1  Download coordinates as: KML GPX (all coordina...,\n",
              "    2022 rank Municipio  2022 estimate  2020 census  Change 2020 land area  \\\n",
              " 0          1  San Juan         334776       342259  −2.19%     39.8 sq mi   \n",
              " 1          2   Bayamón         181577       185187  −1.95%     27.0 sq mi   \n",
              " 2          3  Carolina         151571       154815  −2.10%     20.7 sq mi   \n",
              " 3          4     Ponce         132138       137491  −3.89%     28.4 sq mi   \n",
              " 4          5    Caguas         125136       127244  −1.66%     10.9 sq mi   \n",
              " \n",
              "   2020 land area.1 2020 population density 2020 population density.1  \\\n",
              " 0        103.1 km2             8,599/sq mi                 3,320/km2   \n",
              " 1         69.9 km2             6,859/sq mi                 2,648/km2   \n",
              " 2         53.6 km2             7,479/sq mi                 2,888/km2   \n",
              " 3         73.6 km2             4,841/sq mi                 1,869/km2   \n",
              " 4         28.2 km2            11,674/sq mi                 4,507/km2   \n",
              " \n",
              "                               Location  \n",
              " 0  18°24′N 66°04′W﻿ / ﻿18.40°N 66.06°W  \n",
              " 1  18°23′N 66°10′W﻿ / ﻿18.38°N 66.16°W  \n",
              " 2  18°25′N 65°59′W﻿ / ﻿18.41°N 65.98°W  \n",
              " 3  18°00′N 66°37′W﻿ / ﻿18.00°N 66.62°W  \n",
              " 4  18°14′N 66°02′W﻿ / ﻿18.23°N 66.04°W  ,\n",
              "                                                    0\n",
              " 0  Map this section's coordinates using: OpenStre...\n",
              " 1  Download coordinates as: KML GPX (all coordina...,\n",
              "    Census-designated place       State  2020 census  2010 census    Change  \\\n",
              " 0                Arlington    Virginia       238643       207627   +14.94%   \n",
              " 1               Enterprise      Nevada       221831       108481  +104.49%   \n",
              " 2            Spring Valley      Nevada       215597       178395   +20.85%   \n",
              " 3            Sunrise Manor      Nevada       205618       189372    +8.58%   \n",
              " 4                 Paradise      Nevada       191238       223167   −14.31%   \n",
              " 5                 Metairie   Louisiana       143507       138481    +3.63%   \n",
              " 6         East Los Angeles  California       118786       126496    −6.10%   \n",
              " 7                  Brandon     Florida       114626       103483   +10.77%   \n",
              " 8            The Woodlands       Texas       114436        93847   +21.94%   \n",
              " 9             Lehigh Acres     Florida       114287        86784   +31.69%   \n",
              " 10             Spring Hill     Florida       113568        98621   +15.16%   \n",
              " 11               Riverview     Florida       107396        71050   +51.16%   \n",
              " 12                Columbia    Maryland       104681        99615    +5.09%   \n",
              " 13         Highlands Ranch    Colorado       103444        96713    +6.96%   \n",
              " \n",
              "    2020 land area 2020 land area.1 2020 population density  \\\n",
              " 0      26.0 sq mi       67.340 km2             9,179/sq mi   \n",
              " 1      66.0 sq mi      170.939 km2             3,361/sq mi   \n",
              " 2      35.5 sq mi       91.945 km2             6,073/sq mi   \n",
              " 3      33.7 sq mi       87.283 km2             6,101/sq mi   \n",
              " 4      42.4 sq mi      109.815 km2             4,510/sq mi   \n",
              " 5      23.3 sq mi       60.347 km2             6,159/sq mi   \n",
              " 6       7.5 sq mi       19.425 km2            15,838/sq mi   \n",
              " 7      33.1 sq mi       85.729 km2             3,463/sq mi   \n",
              " 8      43.3 sq mi      112.146 km2             2,643/sq mi   \n",
              " 9      92.7 sq mi      240.092 km2             1,233/sq mi   \n",
              " 10     59.9 sq mi      155.140 km2             1,896/sq mi   \n",
              " 11     46.2 sq mi      119.657 km2             2,325/sq mi   \n",
              " 12     31.9 sq mi       82.621 km2             3,282/sq mi   \n",
              " 13     24.3 sq mi       62.937 km2             4,257/sq mi   \n",
              " \n",
              "    2020 population density.1                               Location  \n",
              " 0                  3,544/km2    38°53′N 77°06′W﻿ / ﻿38.88°N 77.10°W  \n",
              " 1                  1,298/km2  36°01′N 115°14′W﻿ / ﻿36.01°N 115.23°W  \n",
              " 2                  2,345/km2  36°06′N 115°16′W﻿ / ﻿36.10°N 115.26°W  \n",
              " 3                  2,356/km2  36°11′N 115°03′W﻿ / ﻿36.18°N 115.05°W  \n",
              " 4                  1,740/km2  36°05′N 115°08′W﻿ / ﻿36.09°N 115.14°W  \n",
              " 5                  2,378/km2    30°00′N 90°11′W﻿ / ﻿30.00°N 90.18°W  \n",
              " 6                  6,115/km2  34°02′N 118°10′W﻿ / ﻿34.03°N 118.17°W  \n",
              " 7                  1,337/km2    27°56′N 82°18′W﻿ / ﻿27.94°N 82.30°W  \n",
              " 8                  1,020/km2    30°10′N 95°31′W﻿ / ﻿30.17°N 95.51°W  \n",
              " 9                    476/km2    26°37′N 81°38′W﻿ / ﻿26.61°N 81.64°W  \n",
              " 10                   732/km2    28°29′N 82°32′W﻿ / ﻿28.48°N 82.53°W  \n",
              " 11                   898/km2    27°49′N 82°18′W﻿ / ﻿27.82°N 82.30°W  \n",
              " 12                 1,267/km2    39°12′N 76°52′W﻿ / ﻿39.20°N 76.86°W  \n",
              " 13                 1,644/km2  39°32′N 104°58′W﻿ / ﻿39.54°N 104.97°W  ,\n",
              "                 City          State  2022 estimate  2020 census  \\\n",
              " 0          Allegheny   Pennsylvania            NaN          NaN   \n",
              " 1           Brooklyn       New York            NaN          NaN   \n",
              " 2             Camden     New Jersey        70996.0      71791.0   \n",
              " 3             Canton           Ohio        69671.0      70872.0   \n",
              " 4     Citrus Heights     California        86433.0      87583.0   \n",
              " 5   Clinton Township       Michigan        99448.0     100513.0   \n",
              " 6             Duluth      Minnesota        86619.0      86697.0   \n",
              " 7               Erie   Pennsylvania        93511.0      94831.0   \n",
              " 8         Fall River  Massachusetts        93682.0      94000.0   \n",
              " 9        Federal Way     Washington        97863.0     101030.0   \n",
              " 10             Flint       Michigan        79854.0      81252.0   \n",
              " 11              Gary        Indiana        67972.0      69093.0   \n",
              " 12           Hammond        Indiana        76575.0      77879.0   \n",
              " 13           Livonia       Michigan        93779.0      95535.0   \n",
              " 14          Longmont       Colorado        98687.0      98885.0   \n",
              " 15     Niagara Falls       New York        47993.0      48671.0   \n",
              " 16           Norwalk     California        98537.0     102773.0   \n",
              " 17             Parma           Ohio        79358.0      81146.0   \n",
              " 18        Portsmouth       Virginia        97029.0      97915.0   \n",
              " 19           Reading   Pennsylvania        94858.0      95112.0   \n",
              " 20           Roanoke       Virginia        97847.0     100011.0   \n",
              " 21          Scranton   Pennsylvania        75848.0      76328.0   \n",
              " 22        Somerville  Massachusetts        79762.0      81045.0   \n",
              " 23        St. Joseph       Missouri        70656.0      72473.0   \n",
              " 24           Trenton     New Jersey        89661.0      90871.0   \n",
              " 25             Utica       New York        64081.0      65283.0   \n",
              " 26        Wilmington       Delaware        71569.0      70898.0   \n",
              " 27        Youngstown           Ohio        59144.0      60068.0   \n",
              " \n",
              "     Peak population Percent decline from  peak population  \\\n",
              " 0            129896                                   NaN   \n",
              " 1            806343                                   NaN   \n",
              " 2            124555                               −42.36%   \n",
              " 3            116912                               −39.38%   \n",
              " 4            107439                               −18.48%   \n",
              " 5            100513                                 0.00%   \n",
              " 6            107312                               −19.21%   \n",
              " 7            138440                               −31.50%   \n",
              " 8            120485                               −21.98%   \n",
              " 9            101030                                 0.00%   \n",
              " 10           196940                               −58.74%   \n",
              " 11           178320                               −61.25%   \n",
              " 12           111698                               −30.28%   \n",
              " 13           110109                               −13.24%   \n",
              " 14           100758                                −1.86%   \n",
              " 15           102394                               −52.47%   \n",
              " 16           105549                                −2.63%   \n",
              " 17           100216                               −19.03%   \n",
              " 18           114773                               −14.69%   \n",
              " 19           111171                               −14.45%   \n",
              " 20           100220                                −0.21%   \n",
              " 21           143333                               −46.75%   \n",
              " 22           103908                               −22.00%   \n",
              " 23           102979                               −29.62%   \n",
              " 24           128009                               −29.01%   \n",
              " 25           101740                               −35.83%   \n",
              " 26           112504                               −36.98%   \n",
              " 27           170002                               −64.67%   \n",
              " \n",
              "                                                 Notes  \n",
              " 0   Peak as an independent city, annexed by Pittsb...  \n",
              " 1   Peak as an independent city, consolidated with...  \n",
              " 2                    Peak in 1950, −1.11% since 2020.  \n",
              " 3                    Peak in 1950, −1.69% since 2020.  \n",
              " 4                    Peak in 1990, −1.31% since 2020.  \n",
              " 5                    Peak in 2020, −1.06% since 2020.  \n",
              " 6                    Peak in 1960, −0.09% since 2020.  \n",
              " 7                    Peak in 1960, −1.39% since 2020.  \n",
              " 8                    Peak in 1920, −0.34% since 2020.  \n",
              " 9                    Peak in 2020, −3.13% since 2020.  \n",
              " 10                   Peak in 1960, −1.72% since 2020.  \n",
              " 11                   Peak in 1960, −1.62% since 2020.  \n",
              " 12                   Peak in 1960, −1.67% since 2020.  \n",
              " 13                   Peak in 1970, −1.84% since 2020.  \n",
              " 14   Peak in 2021 (estimate only), −0.20% since 2020.  \n",
              " 15                   Peak in 1960, −1.39% since 2020.  \n",
              " 16                   Peak in 2010, −4.12% since 2020.  \n",
              " 17                   Peak in 1970, −2.20% since 2020.  \n",
              " 18                   Peak in 1960, −0.90% since 2020.  \n",
              " 19                   Peak in 1930, −0.27% since 2020.  \n",
              " 20                   Peak in 1980, −2.16% since 2020.  \n",
              " 21                   Peak in 1930, −0.63% since 2020.  \n",
              " 22                   Peak in 1930, −1.58% since 2020.  \n",
              " 23  Official peak in 1900, but there is evidence t...  \n",
              " 24                   Peak in 1950, −1.33% since 2020.  \n",
              " 25                   Peak in 1930, −1.84% since 2020.  \n",
              " 26                   Peak in 1940, +0.95% since 2020.  \n",
              " 27                   Peak in 1930, −1.54% since 2020.  ,\n",
              "   vteThe 100 most populous cities of the United States  \\\n",
              " 0  New York, New York Los Angeles, California Chi...     \n",
              " 1                                                NaN     \n",
              " 2  Cities ranked by United States Census Bureau p...     \n",
              " \n",
              "   vteThe 100 most populous cities of the United States.1  \\\n",
              " 0  New York, New York Los Angeles, California Chi...       \n",
              " 1  New York, New York Los Angeles, California Chi...       \n",
              " 2  Cities ranked by United States Census Bureau p...       \n",
              " \n",
              "                                           Unnamed: 2  \\\n",
              " 0                                                NaN   \n",
              " 1  Portland, Oregon Detroit, Michigan Louisville,...   \n",
              " 2                                                NaN   \n",
              " \n",
              "                                           Unnamed: 3  \\\n",
              " 0                                                NaN   \n",
              " 1  Aurora, Colorado Tampa, Florida New Orleans, L...   \n",
              " 2                                                NaN   \n",
              " \n",
              "                                           Unnamed: 4  \n",
              " 0                                                NaN  \n",
              " 1  Chandler, Arizona Chula Vista, California Buff...  \n",
              " 2                                                NaN  ,\n",
              "     0                                                  1  \\\n",
              " 0 NaN  New York, New York Los Angeles, California Chi...   \n",
              " \n",
              "                                                    2  \\\n",
              " 0  Portland, Oregon Detroit, Michigan Louisville,...   \n",
              " \n",
              "                                                    3  \\\n",
              " 0  Aurora, Colorado Tampa, Florida New Orleans, L...   \n",
              " \n",
              "                                                    4  \n",
              " 0  Chandler, Arizona Chula Vista, California Buff...  ]"
            ]
          },
          "execution_count": 68,
          "metadata": {},
          "output_type": "execute_result"
        }
      ],
      "source": [
        "pd.read_html(\"https://en.wikipedia.org/wiki/List_of_United_States_cities_by_population\")"
      ]
    },
    {
      "cell_type": "markdown",
      "metadata": {
        "id": "pQwWgh_cqynb"
      },
      "source": [
        "However, this scrapes all the tables on the webpage, not just the one we want. As with Beautiful Soup, we can narrow the search by specifying the table attributes."
      ]
    },
    {
      "cell_type": "code",
      "execution_count": 69,
      "metadata": {
        "id": "4BKvPxa9qJ2-"
      },
      "outputs": [
        {
          "data": {
            "text/plain": [
              "[     2022 rank         City       State[c]  2022 estimate  2020 census  \\\n",
              " 0            1  New York[d]       New York        8335897      8804190   \n",
              " 1            2  Los Angeles     California        3822238      3898747   \n",
              " 2            3      Chicago       Illinois        2665039      2746388   \n",
              " 3            4      Houston          Texas        2302878      2304580   \n",
              " 4            5      Phoenix        Arizona        1644409      1608139   \n",
              " ..         ...          ...            ...            ...          ...   \n",
              " 328        329       Albany       New York         100826        99224   \n",
              " 329        330     Hesperia     California         100744        99818   \n",
              " 330        331  New Bedford  Massachusetts         100682       101079   \n",
              " 331        332    Davenport           Iowa         100486       101724   \n",
              " 332        333    Daly City     California         100007       104901   \n",
              " \n",
              "      Change 2020 land area 2020 land area.1 2020 population density  \\\n",
              " 0    −5.32%    300.5 sq mi        778.3 km2            29,298/sq mi   \n",
              " 1    −1.96%    469.5 sq mi      1,216.0 km2             8,304/sq mi   \n",
              " 2    −2.96%    227.7 sq mi        589.7 km2            12,061/sq mi   \n",
              " 3    −0.07%    640.4 sq mi      1,658.6 km2             3,599/sq mi   \n",
              " 4    +2.26%    518.0 sq mi      1,341.6 km2             3,105/sq mi   \n",
              " ..      ...            ...              ...                     ...   \n",
              " 328  +1.61%     21.4 sq mi         55.4 km2             4,637/sq mi   \n",
              " 329  +0.93%     72.7 sq mi        188.3 km2             1,373/sq mi   \n",
              " 330  −0.39%     20.0 sq mi         51.8 km2             5,054/sq mi   \n",
              " 331  −1.22%     63.8 sq mi        165.2 km2             1,594/sq mi   \n",
              " 332  −4.67%      7.6 sq mi         19.7 km2            13,803/sq mi   \n",
              " \n",
              "     2020 population density.1                               Location  \n",
              " 0                  11,312/km2    40°40′N 73°56′W﻿ / ﻿40.66°N 73.94°W  \n",
              " 1                   3,206/km2  34°01′N 118°25′W﻿ / ﻿34.02°N 118.41°W  \n",
              " 2                   4,657/km2    41°50′N 87°41′W﻿ / ﻿41.84°N 87.68°W  \n",
              " 3                   1,390/km2    29°47′N 95°23′W﻿ / ﻿29.79°N 95.39°W  \n",
              " 4                   1,199/km2  33°34′N 112°05′W﻿ / ﻿33.57°N 112.09°W  \n",
              " ..                        ...                                    ...  \n",
              " 328                 1,790/km2    42°40′N 73°48′W﻿ / ﻿42.67°N 73.80°W  \n",
              " 329                   530/km2  34°24′N 117°19′W﻿ / ﻿34.40°N 117.32°W  \n",
              " 330                 1,951/km2    41°40′N 70°56′W﻿ / ﻿41.66°N 70.94°W  \n",
              " 331                   615/km2    41°34′N 90°36′W﻿ / ﻿41.56°N 90.60°W  \n",
              " 332                 5,329/km2  37°41′N 122°28′W﻿ / ﻿37.69°N 122.47°W  \n",
              " \n",
              " [333 rows x 11 columns],\n",
              "    2022 rank Municipio  2022 estimate  2020 census  Change 2020 land area  \\\n",
              " 0          1  San Juan         334776       342259  −2.19%     39.8 sq mi   \n",
              " 1          2   Bayamón         181577       185187  −1.95%     27.0 sq mi   \n",
              " 2          3  Carolina         151571       154815  −2.10%     20.7 sq mi   \n",
              " 3          4     Ponce         132138       137491  −3.89%     28.4 sq mi   \n",
              " 4          5    Caguas         125136       127244  −1.66%     10.9 sq mi   \n",
              " \n",
              "   2020 land area.1 2020 population density 2020 population density.1  \\\n",
              " 0        103.1 km2             8,599/sq mi                 3,320/km2   \n",
              " 1         69.9 km2             6,859/sq mi                 2,648/km2   \n",
              " 2         53.6 km2             7,479/sq mi                 2,888/km2   \n",
              " 3         73.6 km2             4,841/sq mi                 1,869/km2   \n",
              " 4         28.2 km2            11,674/sq mi                 4,507/km2   \n",
              " \n",
              "                               Location  \n",
              " 0  18°24′N 66°04′W﻿ / ﻿18.40°N 66.06°W  \n",
              " 1  18°23′N 66°10′W﻿ / ﻿18.38°N 66.16°W  \n",
              " 2  18°25′N 65°59′W﻿ / ﻿18.41°N 65.98°W  \n",
              " 3  18°00′N 66°37′W﻿ / ﻿18.00°N 66.62°W  \n",
              " 4  18°14′N 66°02′W﻿ / ﻿18.23°N 66.04°W  ,\n",
              "    Census-designated place       State  2020 census  2010 census    Change  \\\n",
              " 0                Arlington    Virginia       238643       207627   +14.94%   \n",
              " 1               Enterprise      Nevada       221831       108481  +104.49%   \n",
              " 2            Spring Valley      Nevada       215597       178395   +20.85%   \n",
              " 3            Sunrise Manor      Nevada       205618       189372    +8.58%   \n",
              " 4                 Paradise      Nevada       191238       223167   −14.31%   \n",
              " 5                 Metairie   Louisiana       143507       138481    +3.63%   \n",
              " 6         East Los Angeles  California       118786       126496    −6.10%   \n",
              " 7                  Brandon     Florida       114626       103483   +10.77%   \n",
              " 8            The Woodlands       Texas       114436        93847   +21.94%   \n",
              " 9             Lehigh Acres     Florida       114287        86784   +31.69%   \n",
              " 10             Spring Hill     Florida       113568        98621   +15.16%   \n",
              " 11               Riverview     Florida       107396        71050   +51.16%   \n",
              " 12                Columbia    Maryland       104681        99615    +5.09%   \n",
              " 13         Highlands Ranch    Colorado       103444        96713    +6.96%   \n",
              " \n",
              "    2020 land area 2020 land area.1 2020 population density  \\\n",
              " 0      26.0 sq mi       67.340 km2             9,179/sq mi   \n",
              " 1      66.0 sq mi      170.939 km2             3,361/sq mi   \n",
              " 2      35.5 sq mi       91.945 km2             6,073/sq mi   \n",
              " 3      33.7 sq mi       87.283 km2             6,101/sq mi   \n",
              " 4      42.4 sq mi      109.815 km2             4,510/sq mi   \n",
              " 5      23.3 sq mi       60.347 km2             6,159/sq mi   \n",
              " 6       7.5 sq mi       19.425 km2            15,838/sq mi   \n",
              " 7      33.1 sq mi       85.729 km2             3,463/sq mi   \n",
              " 8      43.3 sq mi      112.146 km2             2,643/sq mi   \n",
              " 9      92.7 sq mi      240.092 km2             1,233/sq mi   \n",
              " 10     59.9 sq mi      155.140 km2             1,896/sq mi   \n",
              " 11     46.2 sq mi      119.657 km2             2,325/sq mi   \n",
              " 12     31.9 sq mi       82.621 km2             3,282/sq mi   \n",
              " 13     24.3 sq mi       62.937 km2             4,257/sq mi   \n",
              " \n",
              "    2020 population density.1                               Location  \n",
              " 0                  3,544/km2    38°53′N 77°06′W﻿ / ﻿38.88°N 77.10°W  \n",
              " 1                  1,298/km2  36°01′N 115°14′W﻿ / ﻿36.01°N 115.23°W  \n",
              " 2                  2,345/km2  36°06′N 115°16′W﻿ / ﻿36.10°N 115.26°W  \n",
              " 3                  2,356/km2  36°11′N 115°03′W﻿ / ﻿36.18°N 115.05°W  \n",
              " 4                  1,740/km2  36°05′N 115°08′W﻿ / ﻿36.09°N 115.14°W  \n",
              " 5                  2,378/km2    30°00′N 90°11′W﻿ / ﻿30.00°N 90.18°W  \n",
              " 6                  6,115/km2  34°02′N 118°10′W﻿ / ﻿34.03°N 118.17°W  \n",
              " 7                  1,337/km2    27°56′N 82°18′W﻿ / ﻿27.94°N 82.30°W  \n",
              " 8                  1,020/km2    30°10′N 95°31′W﻿ / ﻿30.17°N 95.51°W  \n",
              " 9                    476/km2    26°37′N 81°38′W﻿ / ﻿26.61°N 81.64°W  \n",
              " 10                   732/km2    28°29′N 82°32′W﻿ / ﻿28.48°N 82.53°W  \n",
              " 11                   898/km2    27°49′N 82°18′W﻿ / ﻿27.82°N 82.30°W  \n",
              " 12                 1,267/km2    39°12′N 76°52′W﻿ / ﻿39.20°N 76.86°W  \n",
              " 13                 1,644/km2  39°32′N 104°58′W﻿ / ﻿39.54°N 104.97°W  ]"
            ]
          },
          "execution_count": 69,
          "metadata": {},
          "output_type": "execute_result"
        }
      ],
      "source": [
        "pd.read_html(\"https://en.wikipedia.org/wiki/List_of_United_States_cities_by_population\", attrs = {'class': 'wikitable sortable', \"style\": \"text-align:center\"})"
      ]
    },
    {
      "cell_type": "markdown",
      "metadata": {
        "id": "P6P7xCnPrBtS"
      },
      "source": [
        "This still returns 3 tables. As we remarked above, the table that we want is the first one (see `[0]` below)."
      ]
    },
    {
      "cell_type": "code",
      "execution_count": 70,
      "metadata": {
        "id": "96L5qJvGp7ks"
      },
      "outputs": [
        {
          "data": {
            "text/html": [
              "<div>\n",
              "<style scoped>\n",
              "    .dataframe tbody tr th:only-of-type {\n",
              "        vertical-align: middle;\n",
              "    }\n",
              "\n",
              "    .dataframe tbody tr th {\n",
              "        vertical-align: top;\n",
              "    }\n",
              "\n",
              "    .dataframe thead th {\n",
              "        text-align: right;\n",
              "    }\n",
              "</style>\n",
              "<table border=\"1\" class=\"dataframe\">\n",
              "  <thead>\n",
              "    <tr style=\"text-align: right;\">\n",
              "      <th></th>\n",
              "      <th>2022 rank</th>\n",
              "      <th>City</th>\n",
              "      <th>State[c]</th>\n",
              "      <th>2022 estimate</th>\n",
              "      <th>2020 census</th>\n",
              "      <th>Change</th>\n",
              "      <th>2020 land area</th>\n",
              "      <th>2020 land area.1</th>\n",
              "      <th>2020 population density</th>\n",
              "      <th>2020 population density.1</th>\n",
              "      <th>Location</th>\n",
              "    </tr>\n",
              "  </thead>\n",
              "  <tbody>\n",
              "    <tr>\n",
              "      <th>0</th>\n",
              "      <td>1</td>\n",
              "      <td>New York[d]</td>\n",
              "      <td>New York</td>\n",
              "      <td>8335897</td>\n",
              "      <td>8804190</td>\n",
              "      <td>−5.32%</td>\n",
              "      <td>300.5 sq mi</td>\n",
              "      <td>778.3 km2</td>\n",
              "      <td>29,298/sq mi</td>\n",
              "      <td>11,312/km2</td>\n",
              "      <td>40°40′N 73°56′W﻿ / ﻿40.66°N 73.94°W</td>\n",
              "    </tr>\n",
              "    <tr>\n",
              "      <th>1</th>\n",
              "      <td>2</td>\n",
              "      <td>Los Angeles</td>\n",
              "      <td>California</td>\n",
              "      <td>3822238</td>\n",
              "      <td>3898747</td>\n",
              "      <td>−1.96%</td>\n",
              "      <td>469.5 sq mi</td>\n",
              "      <td>1,216.0 km2</td>\n",
              "      <td>8,304/sq mi</td>\n",
              "      <td>3,206/km2</td>\n",
              "      <td>34°01′N 118°25′W﻿ / ﻿34.02°N 118.41°W</td>\n",
              "    </tr>\n",
              "    <tr>\n",
              "      <th>2</th>\n",
              "      <td>3</td>\n",
              "      <td>Chicago</td>\n",
              "      <td>Illinois</td>\n",
              "      <td>2665039</td>\n",
              "      <td>2746388</td>\n",
              "      <td>−2.96%</td>\n",
              "      <td>227.7 sq mi</td>\n",
              "      <td>589.7 km2</td>\n",
              "      <td>12,061/sq mi</td>\n",
              "      <td>4,657/km2</td>\n",
              "      <td>41°50′N 87°41′W﻿ / ﻿41.84°N 87.68°W</td>\n",
              "    </tr>\n",
              "    <tr>\n",
              "      <th>3</th>\n",
              "      <td>4</td>\n",
              "      <td>Houston</td>\n",
              "      <td>Texas</td>\n",
              "      <td>2302878</td>\n",
              "      <td>2304580</td>\n",
              "      <td>−0.07%</td>\n",
              "      <td>640.4 sq mi</td>\n",
              "      <td>1,658.6 km2</td>\n",
              "      <td>3,599/sq mi</td>\n",
              "      <td>1,390/km2</td>\n",
              "      <td>29°47′N 95°23′W﻿ / ﻿29.79°N 95.39°W</td>\n",
              "    </tr>\n",
              "    <tr>\n",
              "      <th>4</th>\n",
              "      <td>5</td>\n",
              "      <td>Phoenix</td>\n",
              "      <td>Arizona</td>\n",
              "      <td>1644409</td>\n",
              "      <td>1608139</td>\n",
              "      <td>+2.26%</td>\n",
              "      <td>518.0 sq mi</td>\n",
              "      <td>1,341.6 km2</td>\n",
              "      <td>3,105/sq mi</td>\n",
              "      <td>1,199/km2</td>\n",
              "      <td>33°34′N 112°05′W﻿ / ﻿33.57°N 112.09°W</td>\n",
              "    </tr>\n",
              "    <tr>\n",
              "      <th>...</th>\n",
              "      <td>...</td>\n",
              "      <td>...</td>\n",
              "      <td>...</td>\n",
              "      <td>...</td>\n",
              "      <td>...</td>\n",
              "      <td>...</td>\n",
              "      <td>...</td>\n",
              "      <td>...</td>\n",
              "      <td>...</td>\n",
              "      <td>...</td>\n",
              "      <td>...</td>\n",
              "    </tr>\n",
              "    <tr>\n",
              "      <th>328</th>\n",
              "      <td>329</td>\n",
              "      <td>Albany</td>\n",
              "      <td>New York</td>\n",
              "      <td>100826</td>\n",
              "      <td>99224</td>\n",
              "      <td>+1.61%</td>\n",
              "      <td>21.4 sq mi</td>\n",
              "      <td>55.4 km2</td>\n",
              "      <td>4,637/sq mi</td>\n",
              "      <td>1,790/km2</td>\n",
              "      <td>42°40′N 73°48′W﻿ / ﻿42.67°N 73.80°W</td>\n",
              "    </tr>\n",
              "    <tr>\n",
              "      <th>329</th>\n",
              "      <td>330</td>\n",
              "      <td>Hesperia</td>\n",
              "      <td>California</td>\n",
              "      <td>100744</td>\n",
              "      <td>99818</td>\n",
              "      <td>+0.93%</td>\n",
              "      <td>72.7 sq mi</td>\n",
              "      <td>188.3 km2</td>\n",
              "      <td>1,373/sq mi</td>\n",
              "      <td>530/km2</td>\n",
              "      <td>34°24′N 117°19′W﻿ / ﻿34.40°N 117.32°W</td>\n",
              "    </tr>\n",
              "    <tr>\n",
              "      <th>330</th>\n",
              "      <td>331</td>\n",
              "      <td>New Bedford</td>\n",
              "      <td>Massachusetts</td>\n",
              "      <td>100682</td>\n",
              "      <td>101079</td>\n",
              "      <td>−0.39%</td>\n",
              "      <td>20.0 sq mi</td>\n",
              "      <td>51.8 km2</td>\n",
              "      <td>5,054/sq mi</td>\n",
              "      <td>1,951/km2</td>\n",
              "      <td>41°40′N 70°56′W﻿ / ﻿41.66°N 70.94°W</td>\n",
              "    </tr>\n",
              "    <tr>\n",
              "      <th>331</th>\n",
              "      <td>332</td>\n",
              "      <td>Davenport</td>\n",
              "      <td>Iowa</td>\n",
              "      <td>100486</td>\n",
              "      <td>101724</td>\n",
              "      <td>−1.22%</td>\n",
              "      <td>63.8 sq mi</td>\n",
              "      <td>165.2 km2</td>\n",
              "      <td>1,594/sq mi</td>\n",
              "      <td>615/km2</td>\n",
              "      <td>41°34′N 90°36′W﻿ / ﻿41.56°N 90.60°W</td>\n",
              "    </tr>\n",
              "    <tr>\n",
              "      <th>332</th>\n",
              "      <td>333</td>\n",
              "      <td>Daly City</td>\n",
              "      <td>California</td>\n",
              "      <td>100007</td>\n",
              "      <td>104901</td>\n",
              "      <td>−4.67%</td>\n",
              "      <td>7.6 sq mi</td>\n",
              "      <td>19.7 km2</td>\n",
              "      <td>13,803/sq mi</td>\n",
              "      <td>5,329/km2</td>\n",
              "      <td>37°41′N 122°28′W﻿ / ﻿37.69°N 122.47°W</td>\n",
              "    </tr>\n",
              "  </tbody>\n",
              "</table>\n",
              "<p>333 rows × 11 columns</p>\n",
              "</div>"
            ],
            "text/plain": [
              "     2022 rank         City       State[c]  2022 estimate  2020 census  \\\n",
              "0            1  New York[d]       New York        8335897      8804190   \n",
              "1            2  Los Angeles     California        3822238      3898747   \n",
              "2            3      Chicago       Illinois        2665039      2746388   \n",
              "3            4      Houston          Texas        2302878      2304580   \n",
              "4            5      Phoenix        Arizona        1644409      1608139   \n",
              "..         ...          ...            ...            ...          ...   \n",
              "328        329       Albany       New York         100826        99224   \n",
              "329        330     Hesperia     California         100744        99818   \n",
              "330        331  New Bedford  Massachusetts         100682       101079   \n",
              "331        332    Davenport           Iowa         100486       101724   \n",
              "332        333    Daly City     California         100007       104901   \n",
              "\n",
              "     Change 2020 land area 2020 land area.1 2020 population density  \\\n",
              "0    −5.32%    300.5 sq mi        778.3 km2            29,298/sq mi   \n",
              "1    −1.96%    469.5 sq mi      1,216.0 km2             8,304/sq mi   \n",
              "2    −2.96%    227.7 sq mi        589.7 km2            12,061/sq mi   \n",
              "3    −0.07%    640.4 sq mi      1,658.6 km2             3,599/sq mi   \n",
              "4    +2.26%    518.0 sq mi      1,341.6 km2             3,105/sq mi   \n",
              "..      ...            ...              ...                     ...   \n",
              "328  +1.61%     21.4 sq mi         55.4 km2             4,637/sq mi   \n",
              "329  +0.93%     72.7 sq mi        188.3 km2             1,373/sq mi   \n",
              "330  −0.39%     20.0 sq mi         51.8 km2             5,054/sq mi   \n",
              "331  −1.22%     63.8 sq mi        165.2 km2             1,594/sq mi   \n",
              "332  −4.67%      7.6 sq mi         19.7 km2            13,803/sq mi   \n",
              "\n",
              "    2020 population density.1                               Location  \n",
              "0                  11,312/km2    40°40′N 73°56′W﻿ / ﻿40.66°N 73.94°W  \n",
              "1                   3,206/km2  34°01′N 118°25′W﻿ / ﻿34.02°N 118.41°W  \n",
              "2                   4,657/km2    41°50′N 87°41′W﻿ / ﻿41.84°N 87.68°W  \n",
              "3                   1,390/km2    29°47′N 95°23′W﻿ / ﻿29.79°N 95.39°W  \n",
              "4                   1,199/km2  33°34′N 112°05′W﻿ / ﻿33.57°N 112.09°W  \n",
              "..                        ...                                    ...  \n",
              "328                 1,790/km2    42°40′N 73°48′W﻿ / ﻿42.67°N 73.80°W  \n",
              "329                   530/km2  34°24′N 117°19′W﻿ / ﻿34.40°N 117.32°W  \n",
              "330                 1,951/km2    41°40′N 70°56′W﻿ / ﻿41.66°N 70.94°W  \n",
              "331                   615/km2    41°34′N 90°36′W﻿ / ﻿41.56°N 90.60°W  \n",
              "332                 5,329/km2  37°41′N 122°28′W﻿ / ﻿37.69°N 122.47°W  \n",
              "\n",
              "[333 rows x 11 columns]"
            ]
          },
          "execution_count": 70,
          "metadata": {},
          "output_type": "execute_result"
        }
      ],
      "source": [
        "df_cities2 = pd.read_html(\"https://en.wikipedia.org/wiki/List_of_United_States_cities_by_population\", attrs = {'class': 'wikitable sortable', \"style\": \"text-align:center\"})[0]\n",
        "df_cities2"
      ]
    },
    {
      "cell_type": "markdown",
      "metadata": {
        "id": "TjeczIIMYeqj"
      },
      "source": [
        "Wait, that seemed much easier than using Beautiful Soup, and it returned a data frame, and we even got for free some formatting like removing the commas from the population! Why didn't we just use `read_html` in the first place? It's true the `read_html` works well when scraping information from an HTML *table*. Unfortunately, you often want to scrape information from a webpage that isn't conveniently stored in an HTML table, in which case `read_html` won't work. (It only searches for `<table>`, `<th>`, `<tr>`, and `<td>` tags, but there are many other HTML tags.) Though Beautiful Soup is not as simple as `read_html`, it is more flexible and thus more widely applicable."
      ]
    },
    {
      "cell_type": "markdown",
      "metadata": {
        "id": "ctj79YpgX6hw"
      },
      "source": [
        "## Scraping information that is NOT in a `<table>` with Beautiful Soup"
      ]
    },
    {
      "cell_type": "markdown",
      "metadata": {
        "id": "KK6rJQbuuWwF"
      },
      "source": [
        "The Cal Poly course catalog http://catalog.calpoly.edu/collegesandprograms/collegeofsciencemathematics/statistics/#courseinventory contains a list of courses offered by the Statistics department. **You will scrape this website to obtain a Pandas data frame with one row for each DATA or STAT course and two columns: course name and number (e.g, DATA 301. Introduction to Data Science) and term typically offered (e.g., Term Typically Offered: F, W, SP).**"
      ]
    },
    {
      "cell_type": "markdown",
      "metadata": {
        "id": "hbLLrwxs0eWd"
      },
      "source": [
        "Note: Pandas `read_html` is not help here since the courses are not stored in a `<table>.`"
      ]
    },
    {
      "cell_type": "code",
      "execution_count": 71,
      "metadata": {
        "id": "QIRewkca0jhz"
      },
      "outputs": [
        {
          "data": {
            "text/plain": [
              "[                                        Program name   Program type\n",
              " 0                              Actuarial Preparation          Minor\n",
              " 1  Cross Disciplinary Studies Minor in Bioinforma...          Minor\n",
              " 2   Cross Disciplinary Studies Minor in Data Science          Minor\n",
              " 3                                         Statistics  BS, MS, Minor]"
            ]
          },
          "execution_count": 71,
          "metadata": {},
          "output_type": "execute_result"
        }
      ],
      "source": [
        "pd.read_html(\"http://catalog.calpoly.edu/collegesandprograms/collegeofsciencemathematics/statistics/#courseinventory\")"
      ]
    },
    {
      "cell_type": "markdown",
      "metadata": {
        "id": "lvSrhxS4Se7a"
      },
      "source": [
        "\n",
        "Notes/suggestions:\n",
        "\n",
        "\n",
        "- Inspect the page source as you write your code\n",
        "- The courses are not stored in a `<table>`. How are they stored?\n",
        "- You will need to write a loop to get the information for all courses, but you might want to try just scraping the info for DATA 100 first\n",
        "- What kind of tag is the course name stored in? What is the `class` of the tag?\n",
        "- What kind of tag is the quarter(s) the course is offered stored in? What is the `class` of the tag? Is this the only tag of this type with the class? How will you get the one you want?\n",
        "- You don't have to remove the number of units (e.g., 4 units) from the course name and number, but you can try it if you want\n",
        "- You will need to pull the text from the tag. If `.text` returns text with \"\\n\" at the end, try `get_text(strip = True)` instead of `text`\n",
        "- Don't forget to convert to a Pandas Data Frame; it should have 74 rows and 2 columns\n",
        "- The goal of this exercise is just to create the Data Frame. If you were going to use it then you might need to clean the data first. (You can use Beautiful Soup to do some of the cleaning for you, but that goes beyond our scope.)\n",
        "\n"
      ]
    },
    {
      "cell_type": "code",
      "execution_count": 72,
      "metadata": {
        "id": "ZbW6xon4vICB"
      },
      "outputs": [],
      "source": [
        "response = requests.get(\"http://catalog.calpoly.edu/collegesandprograms/collegeofsciencemathematics/statistics/#courseinventory\")\n",
        "soup = BeautifulSoup(response.content, \"html.parser\")"
      ]
    },
    {
      "cell_type": "code",
      "execution_count": 129,
      "metadata": {},
      "outputs": [],
      "source": [
        "courses = soup.find_all(\"div\",\n",
        "                    attrs={\n",
        "                        \"class\": \"courses\"}\n",
        "                    )"
      ]
    },
    {
      "cell_type": "code",
      "execution_count": 130,
      "metadata": {},
      "outputs": [],
      "source": [
        "import re\n",
        "\n",
        "rows = []\n",
        "for coursetype in courses:\n",
        "   for courses in coursetype.find_all('div',\n",
        "                                  attrs={\n",
        "                                      \"class\": \"courseblock\"}\n",
        "                                  ):\n",
        "      course = courses.find_all('p')[0].get_text(strip=True)\n",
        "      course = re.search(r\"(STAT|DATA)[\\s\\xa0]\\d+\\.\\s[A-Za-z]+\", course).group().replace('\\xa0', ' ')\n",
        "      term = courses.find_all('div')[0].find_all('p')[0].text\n",
        "\n",
        "      rows.append({\"course\": course,\n",
        "                   \"term\": term})"
      ]
    },
    {
      "cell_type": "code",
      "execution_count": 131,
      "metadata": {},
      "outputs": [
        {
          "data": {
            "text/html": [
              "<div>\n",
              "<style scoped>\n",
              "    .dataframe tbody tr th:only-of-type {\n",
              "        vertical-align: middle;\n",
              "    }\n",
              "\n",
              "    .dataframe tbody tr th {\n",
              "        vertical-align: top;\n",
              "    }\n",
              "\n",
              "    .dataframe thead th {\n",
              "        text-align: right;\n",
              "    }\n",
              "</style>\n",
              "<table border=\"1\" class=\"dataframe\">\n",
              "  <thead>\n",
              "    <tr style=\"text-align: right;\">\n",
              "      <th></th>\n",
              "      <th>course</th>\n",
              "      <th>term</th>\n",
              "    </tr>\n",
              "  </thead>\n",
              "  <tbody>\n",
              "    <tr>\n",
              "      <th>0</th>\n",
              "      <td>DATA 100. Data</td>\n",
              "      <td>Term Typically Offered: F, W, SP</td>\n",
              "    </tr>\n",
              "    <tr>\n",
              "      <th>1</th>\n",
              "      <td>DATA 301. Introduction</td>\n",
              "      <td>Term Typically Offered: F, W, SP</td>\n",
              "    </tr>\n",
              "    <tr>\n",
              "      <th>2</th>\n",
              "      <td>DATA 401. Data</td>\n",
              "      <td>Term Typically Offered: F</td>\n",
              "    </tr>\n",
              "    <tr>\n",
              "      <th>3</th>\n",
              "      <td>DATA 402. Mathematical</td>\n",
              "      <td>Term Typically Offered: F</td>\n",
              "    </tr>\n",
              "    <tr>\n",
              "      <th>4</th>\n",
              "      <td>DATA 403. Data</td>\n",
              "      <td>Term Typically Offered: F</td>\n",
              "    </tr>\n",
              "    <tr>\n",
              "      <th>...</th>\n",
              "      <td>...</td>\n",
              "      <td>...</td>\n",
              "    </tr>\n",
              "    <tr>\n",
              "      <th>69</th>\n",
              "      <td>STAT 551. Statistical</td>\n",
              "      <td>Term Typically Offered: F</td>\n",
              "    </tr>\n",
              "    <tr>\n",
              "      <th>70</th>\n",
              "      <td>STAT 566. Graduate</td>\n",
              "      <td>Term Typically Offered: SP</td>\n",
              "    </tr>\n",
              "    <tr>\n",
              "      <th>71</th>\n",
              "      <td>STAT 570. Selected</td>\n",
              "      <td>Term Typically Offered: TBD</td>\n",
              "    </tr>\n",
              "    <tr>\n",
              "      <th>72</th>\n",
              "      <td>STAT 590. Graduate</td>\n",
              "      <td>Term Typically Offered: F, W, SP</td>\n",
              "    </tr>\n",
              "    <tr>\n",
              "      <th>73</th>\n",
              "      <td>STAT 599. Thesis</td>\n",
              "      <td>Term Typically Offered: TBD</td>\n",
              "    </tr>\n",
              "  </tbody>\n",
              "</table>\n",
              "<p>74 rows × 2 columns</p>\n",
              "</div>"
            ],
            "text/plain": [
              "                    course                              term\n",
              "0           DATA 100. Data  Term Typically Offered: F, W, SP\n",
              "1   DATA 301. Introduction  Term Typically Offered: F, W, SP\n",
              "2           DATA 401. Data         Term Typically Offered: F\n",
              "3   DATA 402. Mathematical         Term Typically Offered: F\n",
              "4           DATA 403. Data         Term Typically Offered: F\n",
              "..                     ...                               ...\n",
              "69   STAT 551. Statistical         Term Typically Offered: F\n",
              "70      STAT 566. Graduate        Term Typically Offered: SP\n",
              "71      STAT 570. Selected       Term Typically Offered: TBD\n",
              "72      STAT 590. Graduate  Term Typically Offered: F, W, SP\n",
              "73        STAT 599. Thesis       Term Typically Offered: TBD\n",
              "\n",
              "[74 rows x 2 columns]"
            ]
          },
          "execution_count": 131,
          "metadata": {},
          "output_type": "execute_result"
        }
      ],
      "source": [
        "pd.DataFrame(rows)"
      ]
    },
    {
      "cell_type": "markdown",
      "metadata": {
        "id": "17e8M_OsaHJz"
      },
      "source": [
        "Hints:\n",
        "\n",
        "- Each course is represented by a `<div>` with `class=courseblock`, so you can find all the courses with `soup.find_all(\"div\", {\"class\": \"courseblock\"})`\n",
        "- The course name is in a `<p>` tag with `class=courseblocktitle`, inside a `<strong>` tag. (Though I don't think we need to find the strong tag here.)\n",
        "- The term typically offered is in `<p>` tag with `class=noindent`. However, there are several tags with this class; term typically offered is the first one.\n",
        "- If you want to use Beautiful Soup to remove the course units (e.g., 4 units), find the `<span>` tag within the course name tag and `.extract()` this span tag"
      ]
    }
  ],
  "metadata": {
    "colab": {
      "provenance": []
    },
    "kernelspec": {
      "display_name": "Python 3",
      "name": "python3"
    },
    "language_info": {
      "codemirror_mode": {
        "name": "ipython",
        "version": 3
      },
      "file_extension": ".py",
      "mimetype": "text/x-python",
      "name": "python",
      "nbconvert_exporter": "python",
      "pygments_lexer": "ipython3",
      "version": "3.10.4"
    }
  },
  "nbformat": 4,
  "nbformat_minor": 0
}

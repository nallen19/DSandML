{
  "cells": [
    {
      "cell_type": "markdown",
      "metadata": {
        "id": "QWpPySbzYEIV"
      },
      "source": [
        "# Titanic Wrangling\n",
        "\n",
        "In this practice activity you'll continue to work with the titanic dataset in ways that flex what you've learned about both data wrangling and data visualization."
      ]
    },
    {
      "cell_type": "code",
      "execution_count": 2,
      "metadata": {
        "id": "Nr6w8bVCf_NM"
      },
      "outputs": [
        {
          "data": {
            "text/html": [
              "<div>\n",
              "<style scoped>\n",
              "    .dataframe tbody tr th:only-of-type {\n",
              "        vertical-align: middle;\n",
              "    }\n",
              "\n",
              "    .dataframe tbody tr th {\n",
              "        vertical-align: top;\n",
              "    }\n",
              "\n",
              "    .dataframe thead th {\n",
              "        text-align: right;\n",
              "    }\n",
              "</style>\n",
              "<table border=\"1\" class=\"dataframe\">\n",
              "  <thead>\n",
              "    <tr style=\"text-align: right;\">\n",
              "      <th></th>\n",
              "      <th>name</th>\n",
              "      <th>gender</th>\n",
              "      <th>age</th>\n",
              "      <th>class</th>\n",
              "      <th>embarked</th>\n",
              "      <th>country</th>\n",
              "      <th>ticketno</th>\n",
              "      <th>fare</th>\n",
              "      <th>survived</th>\n",
              "    </tr>\n",
              "  </thead>\n",
              "  <tbody>\n",
              "    <tr>\n",
              "      <th>0</th>\n",
              "      <td>Abbing, Mr. Anthony</td>\n",
              "      <td>male</td>\n",
              "      <td>42.0</td>\n",
              "      <td>3rd</td>\n",
              "      <td>S</td>\n",
              "      <td>United States</td>\n",
              "      <td>5547.0</td>\n",
              "      <td>7.11</td>\n",
              "      <td>0</td>\n",
              "    </tr>\n",
              "    <tr>\n",
              "      <th>1</th>\n",
              "      <td>Abbott, Mr. Eugene Joseph</td>\n",
              "      <td>male</td>\n",
              "      <td>13.0</td>\n",
              "      <td>3rd</td>\n",
              "      <td>S</td>\n",
              "      <td>United States</td>\n",
              "      <td>2673.0</td>\n",
              "      <td>20.05</td>\n",
              "      <td>0</td>\n",
              "    </tr>\n",
              "    <tr>\n",
              "      <th>2</th>\n",
              "      <td>Abbott, Mr. Rossmore Edward</td>\n",
              "      <td>male</td>\n",
              "      <td>16.0</td>\n",
              "      <td>3rd</td>\n",
              "      <td>S</td>\n",
              "      <td>United States</td>\n",
              "      <td>2673.0</td>\n",
              "      <td>20.05</td>\n",
              "      <td>0</td>\n",
              "    </tr>\n",
              "    <tr>\n",
              "      <th>3</th>\n",
              "      <td>Abbott, Mrs. Rhoda Mary 'Rosa'</td>\n",
              "      <td>female</td>\n",
              "      <td>39.0</td>\n",
              "      <td>3rd</td>\n",
              "      <td>S</td>\n",
              "      <td>England</td>\n",
              "      <td>2673.0</td>\n",
              "      <td>20.05</td>\n",
              "      <td>1</td>\n",
              "    </tr>\n",
              "    <tr>\n",
              "      <th>4</th>\n",
              "      <td>Abelseth, Miss. Karen Marie</td>\n",
              "      <td>female</td>\n",
              "      <td>16.0</td>\n",
              "      <td>3rd</td>\n",
              "      <td>S</td>\n",
              "      <td>Norway</td>\n",
              "      <td>348125.0</td>\n",
              "      <td>7.13</td>\n",
              "      <td>1</td>\n",
              "    </tr>\n",
              "  </tbody>\n",
              "</table>\n",
              "</div>"
            ],
            "text/plain": [
              "                             name  gender   age class embarked        country  \\\n",
              "0             Abbing, Mr. Anthony    male  42.0   3rd        S  United States   \n",
              "1       Abbott, Mr. Eugene Joseph    male  13.0   3rd        S  United States   \n",
              "2     Abbott, Mr. Rossmore Edward    male  16.0   3rd        S  United States   \n",
              "3  Abbott, Mrs. Rhoda Mary 'Rosa'  female  39.0   3rd        S        England   \n",
              "4     Abelseth, Miss. Karen Marie  female  16.0   3rd        S         Norway   \n",
              "\n",
              "   ticketno   fare  survived  \n",
              "0    5547.0   7.11         0  \n",
              "1    2673.0  20.05         0  \n",
              "2    2673.0  20.05         0  \n",
              "3    2673.0  20.05         1  \n",
              "4  348125.0   7.13         1  "
            ]
          },
          "execution_count": 2,
          "metadata": {},
          "output_type": "execute_result"
        }
      ],
      "source": [
        "import pandas as pd\n",
        "\n",
        "df_titanic = pd.read_csv('./titanic.csv')\n",
        "df_titanic.head()"
      ]
    },
    {
      "cell_type": "markdown",
      "metadata": {
        "id": "9UgZD6VFYa96"
      },
      "source": [
        "## 1. Filter the data to include passengers only. Calculate the joint distribution (cross-tab) between a passenger's class and where they embarked."
      ]
    },
    {
      "cell_type": "code",
      "execution_count": 8,
      "metadata": {
        "id": "TBthOzDLgBif"
      },
      "outputs": [
        {
          "data": {
            "text/html": [
              "<div>\n",
              "<style scoped>\n",
              "    .dataframe tbody tr th:only-of-type {\n",
              "        vertical-align: middle;\n",
              "    }\n",
              "\n",
              "    .dataframe tbody tr th {\n",
              "        vertical-align: top;\n",
              "    }\n",
              "\n",
              "    .dataframe thead th {\n",
              "        text-align: right;\n",
              "    }\n",
              "</style>\n",
              "<table border=\"1\" class=\"dataframe\">\n",
              "  <thead>\n",
              "    <tr style=\"text-align: right;\">\n",
              "      <th>embarked</th>\n",
              "      <th>B</th>\n",
              "      <th>C</th>\n",
              "      <th>Q</th>\n",
              "      <th>S</th>\n",
              "    </tr>\n",
              "    <tr>\n",
              "      <th>class</th>\n",
              "      <th></th>\n",
              "      <th></th>\n",
              "      <th></th>\n",
              "      <th></th>\n",
              "    </tr>\n",
              "  </thead>\n",
              "  <tbody>\n",
              "    <tr>\n",
              "      <th>1st</th>\n",
              "      <td>0.002278</td>\n",
              "      <td>0.108580</td>\n",
              "      <td>0.002278</td>\n",
              "      <td>0.132878</td>\n",
              "    </tr>\n",
              "    <tr>\n",
              "      <th>2nd</th>\n",
              "      <td>0.004556</td>\n",
              "      <td>0.019742</td>\n",
              "      <td>0.005315</td>\n",
              "      <td>0.186029</td>\n",
              "    </tr>\n",
              "    <tr>\n",
              "      <th>3rd</th>\n",
              "      <td>0.000000</td>\n",
              "      <td>0.077449</td>\n",
              "      <td>0.085801</td>\n",
              "      <td>0.375095</td>\n",
              "    </tr>\n",
              "  </tbody>\n",
              "</table>\n",
              "</div>"
            ],
            "text/plain": [
              "embarked         B         C         Q         S\n",
              "class                                           \n",
              "1st       0.002278  0.108580  0.002278  0.132878\n",
              "2nd       0.004556  0.019742  0.005315  0.186029\n",
              "3rd       0.000000  0.077449  0.085801  0.375095"
            ]
          },
          "execution_count": 8,
          "metadata": {},
          "output_type": "execute_result"
        }
      ],
      "source": [
        "df_titanic[\"type\"] = df_titanic[\"class\"].map({\n",
        "    \"1st\": \"passenger\",\n",
        "    \"2nd\": \"passenger\",\n",
        "    \"3rd\": \"passenger\",\n",
        "    \"victualling crew\": \"crew\",\n",
        "    \"engineering crew\": \"crew\",\n",
        "    \"deck crew\": \"crew\"\n",
        "})\n",
        "\n",
        "df_passenger = df_titanic[df_titanic['type'] == 'passenger']\n",
        "pd.crosstab(df_passenger['class'], df_passenger['embarked'], normalize='all')"
      ]
    },
    {
      "cell_type": "markdown",
      "metadata": {
        "id": "3CRaJLSyYm4d"
      },
      "source": [
        "## 2. Using the joint distribution that calculated above, calculate the following:\n",
        "\n",
        "* the conditional distribution of their class given where they embarked\n",
        "* the conditional distribution of where they embarked given their class\n",
        "\n",
        "Use the conditional distributions that you calculate to answer the following quesitons:\n",
        "\n",
        "* What proportion of 3rd class passengers embarked at Southampton?\n",
        "* What proportion of Southampton passengers were in 3rd class?"
      ]
    },
    {
      "cell_type": "code",
      "execution_count": 11,
      "metadata": {},
      "outputs": [
        {
          "data": {
            "text/html": [
              "<div>\n",
              "<style scoped>\n",
              "    .dataframe tbody tr th:only-of-type {\n",
              "        vertical-align: middle;\n",
              "    }\n",
              "\n",
              "    .dataframe tbody tr th {\n",
              "        vertical-align: top;\n",
              "    }\n",
              "\n",
              "    .dataframe thead th {\n",
              "        text-align: right;\n",
              "    }\n",
              "</style>\n",
              "<table border=\"1\" class=\"dataframe\">\n",
              "  <thead>\n",
              "    <tr style=\"text-align: right;\">\n",
              "      <th>embarked</th>\n",
              "      <th>B</th>\n",
              "      <th>C</th>\n",
              "      <th>Q</th>\n",
              "      <th>S</th>\n",
              "    </tr>\n",
              "    <tr>\n",
              "      <th>class</th>\n",
              "      <th></th>\n",
              "      <th></th>\n",
              "      <th></th>\n",
              "      <th></th>\n",
              "    </tr>\n",
              "  </thead>\n",
              "  <tbody>\n",
              "    <tr>\n",
              "      <th>1st</th>\n",
              "      <td>0.333333</td>\n",
              "      <td>0.527675</td>\n",
              "      <td>0.024390</td>\n",
              "      <td>0.191466</td>\n",
              "    </tr>\n",
              "    <tr>\n",
              "      <th>2nd</th>\n",
              "      <td>0.666667</td>\n",
              "      <td>0.095941</td>\n",
              "      <td>0.056911</td>\n",
              "      <td>0.268053</td>\n",
              "    </tr>\n",
              "    <tr>\n",
              "      <th>3rd</th>\n",
              "      <td>0.000000</td>\n",
              "      <td>0.376384</td>\n",
              "      <td>0.918699</td>\n",
              "      <td>0.540481</td>\n",
              "    </tr>\n",
              "  </tbody>\n",
              "</table>\n",
              "</div>"
            ],
            "text/plain": [
              "embarked         B         C         Q         S\n",
              "class                                           \n",
              "1st       0.333333  0.527675  0.024390  0.191466\n",
              "2nd       0.666667  0.095941  0.056911  0.268053\n",
              "3rd       0.000000  0.376384  0.918699  0.540481"
            ]
          },
          "execution_count": 11,
          "metadata": {},
          "output_type": "execute_result"
        }
      ],
      "source": [
        "pd.crosstab(df_passenger['class'], df_passenger['embarked'], normalize='columns')"
      ]
    },
    {
      "cell_type": "code",
      "execution_count": 9,
      "metadata": {
        "id": "TfTGidLIv1k0"
      },
      "outputs": [
        {
          "data": {
            "text/html": [
              "<div>\n",
              "<style scoped>\n",
              "    .dataframe tbody tr th:only-of-type {\n",
              "        vertical-align: middle;\n",
              "    }\n",
              "\n",
              "    .dataframe tbody tr th {\n",
              "        vertical-align: top;\n",
              "    }\n",
              "\n",
              "    .dataframe thead th {\n",
              "        text-align: right;\n",
              "    }\n",
              "</style>\n",
              "<table border=\"1\" class=\"dataframe\">\n",
              "  <thead>\n",
              "    <tr style=\"text-align: right;\">\n",
              "      <th>embarked</th>\n",
              "      <th>B</th>\n",
              "      <th>C</th>\n",
              "      <th>Q</th>\n",
              "      <th>S</th>\n",
              "    </tr>\n",
              "    <tr>\n",
              "      <th>class</th>\n",
              "      <th></th>\n",
              "      <th></th>\n",
              "      <th></th>\n",
              "      <th></th>\n",
              "    </tr>\n",
              "  </thead>\n",
              "  <tbody>\n",
              "    <tr>\n",
              "      <th>1st</th>\n",
              "      <td>0.009259</td>\n",
              "      <td>0.441358</td>\n",
              "      <td>0.009259</td>\n",
              "      <td>0.540123</td>\n",
              "    </tr>\n",
              "    <tr>\n",
              "      <th>2nd</th>\n",
              "      <td>0.021127</td>\n",
              "      <td>0.091549</td>\n",
              "      <td>0.024648</td>\n",
              "      <td>0.862676</td>\n",
              "    </tr>\n",
              "    <tr>\n",
              "      <th>3rd</th>\n",
              "      <td>0.000000</td>\n",
              "      <td>0.143865</td>\n",
              "      <td>0.159379</td>\n",
              "      <td>0.696756</td>\n",
              "    </tr>\n",
              "  </tbody>\n",
              "</table>\n",
              "</div>"
            ],
            "text/plain": [
              "embarked         B         C         Q         S\n",
              "class                                           \n",
              "1st       0.009259  0.441358  0.009259  0.540123\n",
              "2nd       0.021127  0.091549  0.024648  0.862676\n",
              "3rd       0.000000  0.143865  0.159379  0.696756"
            ]
          },
          "execution_count": 9,
          "metadata": {},
          "output_type": "execute_result"
        }
      ],
      "source": [
        "pd.crosstab(df_passenger['class'], df_passenger['embarked'], normalize='index')"
      ]
    },
    {
      "cell_type": "markdown",
      "metadata": {},
      "source": [
        "Proportion of 3rd class passengers who embarked at Southampton: 0.54\\\n",
        "Proportion of Southampton passengers in 3rd class: 0.70"
      ]
    },
    {
      "cell_type": "markdown",
      "metadata": {
        "id": "pGUQeeh1ZRfz"
      },
      "source": [
        "## 3. Make a visualization showing the distribution of a passenger's class, given where they embarked.\n",
        "\n",
        "Discuss the pros and cons of using this visualization versus the distributions you calculated before, to answer the previous questions."
      ]
    },
    {
      "cell_type": "code",
      "execution_count": 16,
      "metadata": {
        "id": "PZ18WKJWA-xZ"
      },
      "outputs": [
        {
          "data": {
            "text/html": [
              "<div>\n",
              "<style scoped>\n",
              "    .dataframe tbody tr th:only-of-type {\n",
              "        vertical-align: middle;\n",
              "    }\n",
              "\n",
              "    .dataframe tbody tr th {\n",
              "        vertical-align: top;\n",
              "    }\n",
              "\n",
              "    .dataframe thead th {\n",
              "        text-align: right;\n",
              "    }\n",
              "</style>\n",
              "<table border=\"1\" class=\"dataframe\">\n",
              "  <thead>\n",
              "    <tr style=\"text-align: right;\">\n",
              "      <th></th>\n",
              "      <th>class</th>\n",
              "      <th>embarked</th>\n",
              "      <th>proportion</th>\n",
              "    </tr>\n",
              "  </thead>\n",
              "  <tbody>\n",
              "    <tr>\n",
              "      <th>0</th>\n",
              "      <td>1st</td>\n",
              "      <td>B</td>\n",
              "      <td>0.333333</td>\n",
              "    </tr>\n",
              "    <tr>\n",
              "      <th>1</th>\n",
              "      <td>2nd</td>\n",
              "      <td>B</td>\n",
              "      <td>0.666667</td>\n",
              "    </tr>\n",
              "    <tr>\n",
              "      <th>2</th>\n",
              "      <td>3rd</td>\n",
              "      <td>B</td>\n",
              "      <td>0.000000</td>\n",
              "    </tr>\n",
              "    <tr>\n",
              "      <th>3</th>\n",
              "      <td>1st</td>\n",
              "      <td>C</td>\n",
              "      <td>0.527675</td>\n",
              "    </tr>\n",
              "    <tr>\n",
              "      <th>4</th>\n",
              "      <td>2nd</td>\n",
              "      <td>C</td>\n",
              "      <td>0.095941</td>\n",
              "    </tr>\n",
              "    <tr>\n",
              "      <th>5</th>\n",
              "      <td>3rd</td>\n",
              "      <td>C</td>\n",
              "      <td>0.376384</td>\n",
              "    </tr>\n",
              "    <tr>\n",
              "      <th>6</th>\n",
              "      <td>1st</td>\n",
              "      <td>Q</td>\n",
              "      <td>0.024390</td>\n",
              "    </tr>\n",
              "    <tr>\n",
              "      <th>7</th>\n",
              "      <td>2nd</td>\n",
              "      <td>Q</td>\n",
              "      <td>0.056911</td>\n",
              "    </tr>\n",
              "    <tr>\n",
              "      <th>8</th>\n",
              "      <td>3rd</td>\n",
              "      <td>Q</td>\n",
              "      <td>0.918699</td>\n",
              "    </tr>\n",
              "    <tr>\n",
              "      <th>9</th>\n",
              "      <td>1st</td>\n",
              "      <td>S</td>\n",
              "      <td>0.191466</td>\n",
              "    </tr>\n",
              "    <tr>\n",
              "      <th>10</th>\n",
              "      <td>2nd</td>\n",
              "      <td>S</td>\n",
              "      <td>0.268053</td>\n",
              "    </tr>\n",
              "    <tr>\n",
              "      <th>11</th>\n",
              "      <td>3rd</td>\n",
              "      <td>S</td>\n",
              "      <td>0.540481</td>\n",
              "    </tr>\n",
              "  </tbody>\n",
              "</table>\n",
              "</div>"
            ],
            "text/plain": [
              "   class embarked  proportion\n",
              "0    1st        B    0.333333\n",
              "1    2nd        B    0.666667\n",
              "2    3rd        B    0.000000\n",
              "3    1st        C    0.527675\n",
              "4    2nd        C    0.095941\n",
              "5    3rd        C    0.376384\n",
              "6    1st        Q    0.024390\n",
              "7    2nd        Q    0.056911\n",
              "8    3rd        Q    0.918699\n",
              "9    1st        S    0.191466\n",
              "10   2nd        S    0.268053\n",
              "11   3rd        S    0.540481"
            ]
          },
          "execution_count": 16,
          "metadata": {},
          "output_type": "execute_result"
        }
      ],
      "source": [
        "ct = pd.crosstab(df_passenger['class'], df_passenger['embarked'], normalize='columns')\n",
        "ct.reset_index(inplace=True)\n",
        "ct = ct.melt(id_vars=['class'], var_name=['embarked'], value_name='proportion')\n",
        "ct"
      ]
    },
    {
      "cell_type": "code",
      "execution_count": 25,
      "metadata": {},
      "outputs": [
        {
          "data": {
            "image/png": "[encoded data removed]",
            "text/plain": [
              "<Figure size 640x480 with 1 Axes>"
            ]
          },
          "execution_count": 25,
          "metadata": {
            "image/png": {
              "height": 480,
              "width": 640
            }
          },
          "output_type": "execute_result"
        }
      ],
      "source": [
        "import plotnine as p9\n",
        "\n",
        "plot = (p9.ggplot(data=ct,\n",
        "                  mapping=p9.aes(x='embarked',\n",
        "                                 y='proportion',\n",
        "                                 fill='class'))\n",
        "        + p9.geom_bar(stat='identity')\n",
        "        + p9.labs(title='Distribution of passenger class given where they embarked',\n",
        "                  x='Embarked',\n",
        "                  y='Proportion',\n",
        "                  fill='Class')\n",
        "        + p9.theme_light())\n",
        "\n",
        "plot.draw()"
      ]
    },
    {
      "cell_type": "markdown",
      "metadata": {},
      "source": [
        "The visualization is easier to compare relative proportions, but doesn't give the exact number."
      ]
    }
  ],
  "metadata": {
    "colab": {
      "provenance": []
    },
    "kernelspec": {
      "display_name": "Python 3",
      "name": "python3"
    },
    "language_info": {
      "codemirror_mode": {
        "name": "ipython",
        "version": 3
      },
      "file_extension": ".py",
      "mimetype": "text/x-python",
      "name": "python",
      "nbconvert_exporter": "python",
      "pygments_lexer": "ipython3",
      "version": "3.10.4"
    }
  },
  "nbformat": 4,
  "nbformat_minor": 0
}

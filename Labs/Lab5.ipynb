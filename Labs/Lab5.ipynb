{
 "cells": [
  {
   "cell_type": "raw",
   "metadata": {},
   "source": [
    "---\n",
    "self-contained: true\n",
    "title: Lab5\n",
    "---"
   ]
  },
  {
   "cell_type": "markdown",
   "metadata": {},
   "source": [
    "## Part One: Data Exploration"
   ]
  },
  {
   "cell_type": "code",
   "execution_count": 249,
   "metadata": {},
   "outputs": [],
   "source": [
    "import warnings\n",
    "warnings.filterwarnings('ignore', category=FutureWarning)"
   ]
  },
  {
   "cell_type": "code",
   "execution_count": 250,
   "metadata": {},
   "outputs": [
    {
     "data": {
      "text/html": [
       "<div>\n",
       "<style scoped>\n",
       "    .dataframe tbody tr th:only-of-type {\n",
       "        vertical-align: middle;\n",
       "    }\n",
       "\n",
       "    .dataframe tbody tr th {\n",
       "        vertical-align: top;\n",
       "    }\n",
       "\n",
       "    .dataframe thead th {\n",
       "        text-align: right;\n",
       "    }\n",
       "</style>\n",
       "<table border=\"1\" class=\"dataframe\">\n",
       "  <thead>\n",
       "    <tr style=\"text-align: right;\">\n",
       "      <th></th>\n",
       "      <th>age</th>\n",
       "      <th>sex</th>\n",
       "      <th>bmi</th>\n",
       "      <th>smoker</th>\n",
       "      <th>region</th>\n",
       "      <th>charges</th>\n",
       "    </tr>\n",
       "  </thead>\n",
       "  <tbody>\n",
       "    <tr>\n",
       "      <th>0</th>\n",
       "      <td>19</td>\n",
       "      <td>female</td>\n",
       "      <td>27.900</td>\n",
       "      <td>yes</td>\n",
       "      <td>southwest</td>\n",
       "      <td>16884.92400</td>\n",
       "    </tr>\n",
       "    <tr>\n",
       "      <th>1</th>\n",
       "      <td>33</td>\n",
       "      <td>male</td>\n",
       "      <td>22.705</td>\n",
       "      <td>no</td>\n",
       "      <td>northwest</td>\n",
       "      <td>21984.47061</td>\n",
       "    </tr>\n",
       "    <tr>\n",
       "      <th>2</th>\n",
       "      <td>32</td>\n",
       "      <td>male</td>\n",
       "      <td>28.880</td>\n",
       "      <td>no</td>\n",
       "      <td>northwest</td>\n",
       "      <td>3866.85520</td>\n",
       "    </tr>\n",
       "    <tr>\n",
       "      <th>3</th>\n",
       "      <td>31</td>\n",
       "      <td>female</td>\n",
       "      <td>25.740</td>\n",
       "      <td>no</td>\n",
       "      <td>southeast</td>\n",
       "      <td>3756.62160</td>\n",
       "    </tr>\n",
       "    <tr>\n",
       "      <th>4</th>\n",
       "      <td>60</td>\n",
       "      <td>female</td>\n",
       "      <td>25.840</td>\n",
       "      <td>no</td>\n",
       "      <td>northwest</td>\n",
       "      <td>28923.13692</td>\n",
       "    </tr>\n",
       "  </tbody>\n",
       "</table>\n",
       "</div>"
      ],
      "text/plain": [
       "   age     sex     bmi smoker     region      charges\n",
       "0   19  female  27.900    yes  southwest  16884.92400\n",
       "1   33    male  22.705     no  northwest  21984.47061\n",
       "2   32    male  28.880     no  northwest   3866.85520\n",
       "3   31  female  25.740     no  southeast   3756.62160\n",
       "4   60  female  25.840     no  northwest  28923.13692"
      ]
     },
     "execution_count": 250,
     "metadata": {},
     "output_type": "execute_result"
    }
   ],
   "source": [
    "import pandas as pd\n",
    "import seaborn as sns\n",
    "import matplotlib.pyplot as plt\n",
    "import numpy as np\n",
    "from sklearn.model_selection import train_test_split\n",
    "from sklearn.linear_model import LinearRegression\n",
    "from sklearn.preprocessing import OneHotEncoder, PolynomialFeatures, StandardScaler\n",
    "from sklearn.pipeline import Pipeline\n",
    "from sklearn.metrics import mean_squared_error, r2_score\n",
    "from sklearn.compose import ColumnTransformer\n",
    "\n",
    "df_insurance = pd.read_csv('./Data/insurance_costs.csv')\n",
    "df_insurance.head()"
   ]
  },
  {
   "cell_type": "code",
   "execution_count": 251,
   "metadata": {},
   "outputs": [
    {
     "data": {
      "text/html": [
       "<div>\n",
       "<style scoped>\n",
       "    .dataframe tbody tr th:only-of-type {\n",
       "        vertical-align: middle;\n",
       "    }\n",
       "\n",
       "    .dataframe tbody tr th {\n",
       "        vertical-align: top;\n",
       "    }\n",
       "\n",
       "    .dataframe thead th {\n",
       "        text-align: right;\n",
       "    }\n",
       "</style>\n",
       "<table border=\"1\" class=\"dataframe\">\n",
       "  <thead>\n",
       "    <tr style=\"text-align: right;\">\n",
       "      <th></th>\n",
       "      <th>age</th>\n",
       "      <th>bmi</th>\n",
       "      <th>charges</th>\n",
       "    </tr>\n",
       "  </thead>\n",
       "  <tbody>\n",
       "    <tr>\n",
       "      <th>count</th>\n",
       "      <td>431.000000</td>\n",
       "      <td>431.000000</td>\n",
       "      <td>431.000000</td>\n",
       "    </tr>\n",
       "    <tr>\n",
       "      <th>mean</th>\n",
       "      <td>37.960557</td>\n",
       "      <td>30.768898</td>\n",
       "      <td>12297.098118</td>\n",
       "    </tr>\n",
       "    <tr>\n",
       "      <th>std</th>\n",
       "      <td>16.363909</td>\n",
       "      <td>6.111362</td>\n",
       "      <td>11876.527128</td>\n",
       "    </tr>\n",
       "    <tr>\n",
       "      <th>min</th>\n",
       "      <td>18.000000</td>\n",
       "      <td>15.960000</td>\n",
       "      <td>1131.506600</td>\n",
       "    </tr>\n",
       "    <tr>\n",
       "      <th>25%</th>\n",
       "      <td>22.000000</td>\n",
       "      <td>26.357500</td>\n",
       "      <td>2710.444575</td>\n",
       "    </tr>\n",
       "    <tr>\n",
       "      <th>50%</th>\n",
       "      <td>34.000000</td>\n",
       "      <td>30.590000</td>\n",
       "      <td>9866.304850</td>\n",
       "    </tr>\n",
       "    <tr>\n",
       "      <th>75%</th>\n",
       "      <td>55.000000</td>\n",
       "      <td>35.272500</td>\n",
       "      <td>14510.872600</td>\n",
       "    </tr>\n",
       "    <tr>\n",
       "      <th>max</th>\n",
       "      <td>64.000000</td>\n",
       "      <td>49.060000</td>\n",
       "      <td>55135.402090</td>\n",
       "    </tr>\n",
       "  </tbody>\n",
       "</table>\n",
       "</div>"
      ],
      "text/plain": [
       "              age         bmi       charges\n",
       "count  431.000000  431.000000    431.000000\n",
       "mean    37.960557   30.768898  12297.098118\n",
       "std     16.363909    6.111362  11876.527128\n",
       "min     18.000000   15.960000   1131.506600\n",
       "25%     22.000000   26.357500   2710.444575\n",
       "50%     34.000000   30.590000   9866.304850\n",
       "75%     55.000000   35.272500  14510.872600\n",
       "max     64.000000   49.060000  55135.402090"
      ]
     },
     "execution_count": 251,
     "metadata": {},
     "output_type": "execute_result"
    }
   ],
   "source": [
    "df_insurance.describe()"
   ]
  },
  {
   "cell_type": "code",
   "execution_count": 252,
   "metadata": {},
   "outputs": [
    {
     "data": {
      "text/plain": [
       "age        False\n",
       "sex        False\n",
       "bmi        False\n",
       "smoker     False\n",
       "region     False\n",
       "charges    False\n",
       "dtype: bool"
      ]
     },
     "execution_count": 252,
     "metadata": {},
     "output_type": "execute_result"
    }
   ],
   "source": [
    "df_insurance.isna().any()"
   ]
  },
  {
   "cell_type": "code",
   "execution_count": 253,
   "metadata": {},
   "outputs": [
    {
     "data": {
      "image/png": "[encoded data removed]",
      "text/plain": [
       "<Figure size 1500x500 with 3 Axes>"
      ]
     },
     "metadata": {},
     "output_type": "display_data"
    }
   ],
   "source": [
    "fig, axs = plt.subplots(ncols=3, figsize=(15, 5))\n",
    "\n",
    "# Age\n",
    "sns.scatterplot(x='age', y='charges', data=df_insurance, ax=axs[0])\n",
    "axs[0].set_title(\"Charges vs Age\")\n",
    "\n",
    "# Sex\n",
    "sns.boxplot(x='sex', y='charges', data=df_insurance, ax=axs[1])\n",
    "axs[1].set_title(\"Charges vs Sex\")\n",
    "\n",
    "# Smoker\n",
    "sns.boxplot(x='smoker', y='charges', data=df_insurance, ax=axs[2])\n",
    "axs[2].set_title(\"Charges vs Smoker\")\n",
    "\n",
    "plt.tight_layout()\n",
    "plt.show()"
   ]
  },
  {
   "cell_type": "markdown",
   "metadata": {},
   "source": [
    "Age: Seems to be 3 distinct curved lines sloped upwards, increasing as age increases\\\n",
    "Sex: Male and female minimum and IQR are around the same, but male has a higher maximum and both plots have outliers, with women having more outliers\\\n",
    "Smoker: Smokers have much higher costs than non-smokers"
   ]
  },
  {
   "cell_type": "markdown",
   "metadata": {},
   "source": [
    "## Part Two: Simple Linear Models"
   ]
  },
  {
   "cell_type": "code",
   "execution_count": 254,
   "metadata": {},
   "outputs": [
    {
     "name": "stdout",
     "output_type": "stream",
     "text": [
      "MSE: 141029548.95804176\n",
      "R-squared: 0.1287424190241595\n",
      "Coefficient: [214.5460771]\n",
      "Intercept: 4031.0413606972625\n"
     ]
    }
   ],
   "source": [
    "X = df_insurance[['age']]\n",
    "y = df_insurance['charges']\n",
    "\n",
    "X_train, X_test, y_train, y_test = train_test_split(X, y, test_size=0.2, random_state=42)\n",
    "\n",
    "pipeline = Pipeline([\n",
    "    ('lr', LinearRegression())\n",
    "])\n",
    "\n",
    "pipeline.fit(X_train, y_train)\n",
    "y_pred = pipeline.predict(X_test)\n",
    "\n",
    "mse = mean_squared_error(y_test, y_pred)\n",
    "r2 = r2_score(y_test, y_pred)\n",
    "coef = pipeline['lr'].coef_\n",
    "intercept = pipeline['lr'].intercept_\n",
    "\n",
    "print(f\"MSE: {mse}\")\n",
    "print(f\"R-squared: {r2}\")\n",
    "print(f\"Coefficient: {coef}\")\n",
    "print(f\"Intercept: {intercept}\")"
   ]
  },
  {
   "cell_type": "markdown",
   "metadata": {},
   "source": [
    "MSE: Huge, indicates that using only age cannot accurately predict charges\\\n",
    "R-squared: Only about 13% of variance is explained with model\\\n",
    "Coefficiants: Age 0 would yield ~4031 in charges, and with each year of age, charges increases by ~215"
   ]
  },
  {
   "cell_type": "code",
   "execution_count": 255,
   "metadata": {},
   "outputs": [
    {
     "name": "stdout",
     "output_type": "stream",
     "text": [
      "MSE: 165546149.4746172\n",
      "R-squared: -0.02271714542624914\n"
     ]
    }
   ],
   "source": [
    "X = df_insurance[['sex']]\n",
    "\n",
    "X_train, X_test, y_train, y_test = train_test_split(X, y, test_size=0.2, random_state=42)\n",
    "\n",
    "pipeline_enc = Pipeline([\n",
    "    ('enc', OneHotEncoder()),\n",
    "    ('lr', LinearRegression())\n",
    "])\n",
    "\n",
    "pipeline_enc.fit(X_train, y_train)\n",
    "y_pred = pipeline_enc.predict(X_test)\n",
    "\n",
    "mse = mean_squared_error(y_test, y_pred)\n",
    "r2 = r2_score(y_test, y_pred)\n",
    "\n",
    "print(f\"MSE: {mse}\")\n",
    "print(f\"R-squared: {r2}\")"
   ]
  },
  {
   "cell_type": "code",
   "execution_count": 256,
   "metadata": {},
   "outputs": [
    {
     "name": "stdout",
     "output_type": "stream",
     "text": [
      "MSE: 47828570.576878846\n",
      "R-squared: 0.7045228818342075\n"
     ]
    }
   ],
   "source": [
    "X = df_insurance[['smoker']]\n",
    "\n",
    "X_train, X_test, y_train, y_test = train_test_split(X, y, test_size=0.2, random_state=42)\n",
    "\n",
    "pipeline_enc.fit(X_train, y_train)\n",
    "y_pred = pipeline_enc.predict(X_test)\n",
    "\n",
    "mse = mean_squared_error(y_test, y_pred)\n",
    "r2 = r2_score(y_test, y_pred)\n",
    "\n",
    "print(f\"MSE: {mse}\")\n",
    "print(f\"R-squared: {r2}\")"
   ]
  },
  {
   "cell_type": "markdown",
   "metadata": {},
   "source": [
    "Smoker model: much lower MSE and much higher R-squared"
   ]
  },
  {
   "cell_type": "markdown",
   "metadata": {},
   "source": [
    "## Part Three: Multiple Linear Models"
   ]
  },
  {
   "cell_type": "code",
   "execution_count": 257,
   "metadata": {},
   "outputs": [
    {
     "name": "stdout",
     "output_type": "stream",
     "text": [
      "MSE: 134239917.63105714\n",
      "R-squared: 0.1706876553903791\n"
     ]
    }
   ],
   "source": [
    "X = df_insurance[['age', 'bmi']]\n",
    "\n",
    "X_train, X_test, y_train, y_test = train_test_split(X, y, test_size=0.2, random_state=42)\n",
    "\n",
    "pipeline.fit(X_train, y_train)\n",
    "y_pred = pipeline.predict(X_test)\n",
    "\n",
    "mse = mean_squared_error(y_test, y_pred)\n",
    "r2 = r2_score(y_test, y_pred)\n",
    "\n",
    "print(f\"MSE: {mse}\")\n",
    "print(f\"R-squared: {r2}\")"
   ]
  },
  {
   "cell_type": "markdown",
   "metadata": {},
   "source": [
    "Slightly lower MSE and slightly higher R-squared from Part 2 Q1"
   ]
  },
  {
   "cell_type": "code",
   "execution_count": 258,
   "metadata": {},
   "outputs": [
    {
     "name": "stdout",
     "output_type": "stream",
     "text": [
      "MSE: 140964723.05883405\n",
      "R-squared: 0.12914290286988972\n"
     ]
    }
   ],
   "source": [
    "X = df_insurance[['age']]\n",
    "\n",
    "X_train, X_test, y_train, y_test = train_test_split(X, y, test_size=0.2, random_state=42)\n",
    "\n",
    "pipeline_square = Pipeline([\n",
    "    ('poly', PolynomialFeatures(degree=2, include_bias=False)),\n",
    "    ('linear', LinearRegression())\n",
    "])\n",
    "\n",
    "pipeline_square.fit(X_train, y_train)\n",
    "y_pred = pipeline_square.predict(X_test)\n",
    "\n",
    "mse = mean_squared_error(y_test, y_pred)\n",
    "r2 = r2_score(y_test, y_pred)\n",
    "\n",
    "print(f\"MSE: {mse}\")\n",
    "print(f\"R-squared: {r2}\")"
   ]
  },
  {
   "cell_type": "markdown",
   "metadata": {},
   "source": [
    "About same as Part 2 Q1"
   ]
  },
  {
   "cell_type": "code",
   "execution_count": 259,
   "metadata": {},
   "outputs": [
    {
     "name": "stdout",
     "output_type": "stream",
     "text": [
      "MSE: 138845451.4874985\n",
      "R-squared: 0.14223541742669377\n"
     ]
    }
   ],
   "source": [
    "pipeline_quad = Pipeline([\n",
    "    ('poly', PolynomialFeatures(degree=4, include_bias=False)),\n",
    "    ('linear', LinearRegression())\n",
    "])\n",
    "\n",
    "pipeline_quad.fit(X_train, y_train)\n",
    "y_pred = pipeline_quad.predict(X_test)\n",
    "\n",
    "mse = mean_squared_error(y_test, y_pred)\n",
    "r2 = r2_score(y_test, y_pred)\n",
    "\n",
    "print(f\"MSE: {mse}\")\n",
    "print(f\"R-squared: {r2}\")"
   ]
  },
  {
   "cell_type": "markdown",
   "metadata": {},
   "source": [
    "Slightly lower MSE and slightly higher R-squared from Part 2 Q1"
   ]
  },
  {
   "cell_type": "code",
   "execution_count": 260,
   "metadata": {},
   "outputs": [
    {
     "name": "stdout",
     "output_type": "stream",
     "text": [
      "MSE: 141790545.42545867\n",
      "R-squared: 0.12404110680816371\n"
     ]
    }
   ],
   "source": [
    "pipeline_12 = Pipeline([\n",
    "    ('poly', PolynomialFeatures(degree=12, include_bias=False)),\n",
    "    ('linear', LinearRegression())\n",
    "])\n",
    "\n",
    "pipeline_12.fit(X_train, y_train)\n",
    "y_pred = pipeline_12.predict(X_test)\n",
    "\n",
    "mse = mean_squared_error(y_test, y_pred)\n",
    "r2 = r2_score(y_test, y_pred)\n",
    "\n",
    "print(f\"MSE: {mse}\")\n",
    "print(f\"R-squared: {r2}\")"
   ]
  },
  {
   "cell_type": "markdown",
   "metadata": {},
   "source": [
    "About same as Part 2 Q1"
   ]
  },
  {
   "cell_type": "markdown",
   "metadata": {},
   "source": [
    "Part 2 Q3: much lower MSE and much higher R-squared than every other model, each performing smilarly"
   ]
  },
  {
   "cell_type": "code",
   "execution_count": 261,
   "metadata": {},
   "outputs": [
    {
     "name": "stderr",
     "output_type": "stream",
     "text": [
      "/Library/Frameworks/Python.framework/Versions/3.10/lib/python3.10/site-packages/sklearn/base.py:439: UserWarning: X does not have valid feature names, but PolynomialFeatures was fitted with feature names\n",
      "  warnings.warn(\n"
     ]
    },
    {
     "data": {
      "image/png": "[encoded data removed]",
      "text/plain": [
       "<Figure size 640x480 with 1 Axes>"
      ]
     },
     "metadata": {},
     "output_type": "display_data"
    }
   ],
   "source": [
    "pipeline_12.fit(X, y)\n",
    "\n",
    "age_range = np.linspace(X.min(), X.max(), 300).reshape(-1, 1)\n",
    "\n",
    "y_range_pred = pipeline_12.predict(age_range)\n",
    "prediction_df = pd.DataFrame({'Age': age_range.flatten(), \n",
    "                              'Predicted': y_range_pred})\n",
    "\n",
    "sns.scatterplot(x='age', y='charges', data=df_insurance, label='Actual')\n",
    "sns.lineplot(x='Age', y='Predicted', data=prediction_df, color='red', label='Predictions')\n",
    "\n",
    "plt.show()"
   ]
  },
  {
   "cell_type": "markdown",
   "metadata": {},
   "source": [
    "## Part Four: New data"
   ]
  },
  {
   "cell_type": "code",
   "execution_count": 262,
   "metadata": {},
   "outputs": [
    {
     "data": {
      "text/html": [
       "<div>\n",
       "<style scoped>\n",
       "    .dataframe tbody tr th:only-of-type {\n",
       "        vertical-align: middle;\n",
       "    }\n",
       "\n",
       "    .dataframe tbody tr th {\n",
       "        vertical-align: top;\n",
       "    }\n",
       "\n",
       "    .dataframe thead th {\n",
       "        text-align: right;\n",
       "    }\n",
       "</style>\n",
       "<table border=\"1\" class=\"dataframe\">\n",
       "  <thead>\n",
       "    <tr style=\"text-align: right;\">\n",
       "      <th></th>\n",
       "      <th>age</th>\n",
       "      <th>sex</th>\n",
       "      <th>bmi</th>\n",
       "      <th>smoker</th>\n",
       "      <th>region</th>\n",
       "      <th>charges</th>\n",
       "    </tr>\n",
       "  </thead>\n",
       "  <tbody>\n",
       "    <tr>\n",
       "      <th>0</th>\n",
       "      <td>23</td>\n",
       "      <td>male</td>\n",
       "      <td>34.400</td>\n",
       "      <td>no</td>\n",
       "      <td>southwest</td>\n",
       "      <td>1826.84300</td>\n",
       "    </tr>\n",
       "    <tr>\n",
       "      <th>1</th>\n",
       "      <td>56</td>\n",
       "      <td>male</td>\n",
       "      <td>40.300</td>\n",
       "      <td>no</td>\n",
       "      <td>southwest</td>\n",
       "      <td>10602.38500</td>\n",
       "    </tr>\n",
       "    <tr>\n",
       "      <th>2</th>\n",
       "      <td>18</td>\n",
       "      <td>male</td>\n",
       "      <td>34.100</td>\n",
       "      <td>no</td>\n",
       "      <td>southeast</td>\n",
       "      <td>1137.01100</td>\n",
       "    </tr>\n",
       "    <tr>\n",
       "      <th>3</th>\n",
       "      <td>63</td>\n",
       "      <td>female</td>\n",
       "      <td>23.085</td>\n",
       "      <td>no</td>\n",
       "      <td>northeast</td>\n",
       "      <td>14451.83515</td>\n",
       "    </tr>\n",
       "    <tr>\n",
       "      <th>4</th>\n",
       "      <td>63</td>\n",
       "      <td>male</td>\n",
       "      <td>28.310</td>\n",
       "      <td>no</td>\n",
       "      <td>northwest</td>\n",
       "      <td>13770.09790</td>\n",
       "    </tr>\n",
       "  </tbody>\n",
       "</table>\n",
       "</div>"
      ],
      "text/plain": [
       "   age     sex     bmi smoker     region      charges\n",
       "0   23    male  34.400     no  southwest   1826.84300\n",
       "1   56    male  40.300     no  southwest  10602.38500\n",
       "2   18    male  34.100     no  southeast   1137.01100\n",
       "3   63  female  23.085     no  northeast  14451.83515\n",
       "4   63    male  28.310     no  northwest  13770.09790"
      ]
     },
     "execution_count": 262,
     "metadata": {},
     "output_type": "execute_result"
    }
   ],
   "source": [
    "df_insurance_2 = pd.read_csv('./Data/insurance_costs_2.csv')\n",
    "df_insurance_2.head()"
   ]
  },
  {
   "cell_type": "code",
   "execution_count": 263,
   "metadata": {},
   "outputs": [
    {
     "name": "stdout",
     "output_type": "stream",
     "text": [
      "MSE for age: 136077136.50\n",
      "MSE for age_bmi: 132636406.11\n",
      "MSE for age_bmi_smoker: 35377541.24\n",
      "MSE for age_bmi:smoker: 35514622.83\n",
      "MSE for (age + bmi)*smoker: 35502778.93\n",
      "Best model: age_bmi_smoker\n"
     ]
    }
   ],
   "source": [
    "X_train = df_insurance[['age', 'bmi', 'smoker']]\n",
    "X_test = df_insurance_2[['age', 'bmi', 'smoker']]\n",
    "\n",
    "X_train_age = X_train[['age']]\n",
    "X_test_age = X_test[['age']]\n",
    "\n",
    "X_train_age_bmi = X_train[['age', 'bmi']]\n",
    "X_test_age_bmi = X_test[['age', 'bmi']]\n",
    "\n",
    "y_train = df_insurance['charges']\n",
    "y_test = df_insurance_2['charges']\n",
    "\n",
    "cat = ['smoker']\n",
    "num = ['age', 'bmi']\n",
    "\n",
    "pipelines = {\n",
    "    \"age\": Pipeline([\n",
    "        ('lr', LinearRegression())\n",
    "    ]),\n",
    "    \"age_bmi\": Pipeline([\n",
    "        ('lr', LinearRegression())\n",
    "    ]),\n",
    "    \"age_bmi_smoker\": Pipeline([\n",
    "        ('ct', ColumnTransformer([\n",
    "            ('enc', OneHotEncoder(), cat)\n",
    "        ], remainder='passthrough')),\n",
    "        ('lr', LinearRegression())\n",
    "    ]),\n",
    "    \"age_bmi:smoker\": Pipeline([\n",
    "        ('ct', ColumnTransformer([\n",
    "            ('enc', OneHotEncoder(), cat),\n",
    "            ('interaction', PolynomialFeatures(degree=2, interaction_only=True, include_bias=False), num)\n",
    "        ], remainder='passthrough')),\n",
    "        ('lr', LinearRegression())\n",
    "    ]),\n",
    "    \"(age + bmi)*smoker\": Pipeline([\n",
    "        ('ct', ColumnTransformer([\n",
    "            ('enc', OneHotEncoder(), cat),\n",
    "            ('interaction', PolynomialFeatures(degree=2, include_bias=False), num)\n",
    "        ], remainder='passthrough')),\n",
    "        ('lr', LinearRegression())\n",
    "    ])\n",
    "}\n",
    "\n",
    "mses = {}\n",
    "for model, pipeline in pipelines.items():\n",
    "    if model == \"age\":\n",
    "        pipeline.fit(X_train_age, y_train)\n",
    "        y_pred = pipeline.predict(X_test_age)\n",
    "    elif model == \"age_bmi\":\n",
    "        pipeline.fit(X_train_age_bmi, y_train)\n",
    "        y_pred = pipeline.predict(X_test_age_bmi)\n",
    "    else:\n",
    "        pipeline.fit(X_train, y_train)\n",
    "        y_pred = pipeline.predict(X_test)\n",
    "    \n",
    "    mse = mean_squared_error(y_test, y_pred)\n",
    "    mses[model] = mse\n",
    "\n",
    "    print(f\"MSE for {model}: {mse:.2f}\")\n",
    "\n",
    "best_model = min(mses, key=mses.get)\n",
    "print(f\"Best model: {best_model}\")\n"
   ]
  },
  {
   "cell_type": "code",
   "execution_count": 264,
   "metadata": {},
   "outputs": [
    {
     "data": {
      "image/png": "[encoded data removed]",
      "text/plain": [
       "<Figure size 1000x600 with 1 Axes>"
      ]
     },
     "metadata": {},
     "output_type": "display_data"
    }
   ],
   "source": [
    "best_pipeline = pipelines[best_model]\n",
    "best_pipeline.fit(X_train, y_train)\n",
    "\n",
    "y_pred = best_pipeline.predict(X_test)\n",
    "residuals = y_test - y_pred\n",
    "\n",
    "plt.figure(figsize=(10, 6))\n",
    "sns.scatterplot(x=y_pred, y=residuals)\n",
    "\n",
    "plt.xlabel('Predicted Charges')\n",
    "plt.ylabel('Residuals')\n",
    "plt.axhline(y=0, color='red', linestyle='--')\n",
    "\n",
    "plt.show()"
   ]
  },
  {
   "cell_type": "markdown",
   "metadata": {},
   "source": [
    "## Part Five: Full Exploration"
   ]
  },
  {
   "cell_type": "code",
   "execution_count": 265,
   "metadata": {},
   "outputs": [
    {
     "name": "stdout",
     "output_type": "stream",
     "text": [
      "MSE for all_scaled: 36021379.54\n"
     ]
    }
   ],
   "source": [
    "X_train_all = df_insurance.drop('charges', axis=1)\n",
    "X_test_all = df_insurance_2.drop('charges', axis=1)\n",
    "\n",
    "num = ['age', 'bmi']\n",
    "cat = ['smoker', 'sex', 'region']\n",
    "\n",
    "ct = ColumnTransformer([\n",
    "    ('num', StandardScaler(), num),\n",
    "    ('cat', OneHotEncoder(), cat)\n",
    "])\n",
    "\n",
    "pipeline = Pipeline([\n",
    "    ('ct', ct),\n",
    "    ('lr', LinearRegression())\n",
    "])\n",
    "\n",
    "pipeline.fit(X_train_all, y_train)\n",
    "y_pred = pipeline.predict(X_test_all)\n",
    "\n",
    "mse = mean_squared_error(y_test, y_pred)\n",
    "print(f\"MSE for all_scaled: {mse:.2f}\")\n",
    "mses[\"all_scaled\"] = mse"
   ]
  },
  {
   "cell_type": "code",
   "execution_count": 266,
   "metadata": {},
   "outputs": [
    {
     "name": "stdout",
     "output_type": "stream",
     "text": [
      "MSE for all_interactions: 24565034.60\n"
     ]
    }
   ],
   "source": [
    "ct = ColumnTransformer([\n",
    "    ('num', StandardScaler(), num),\n",
    "    ('cat', OneHotEncoder(), cat),\n",
    "])\n",
    "\n",
    "pipeline = Pipeline([\n",
    "    ('ct', ct),\n",
    "    ('poly', PolynomialFeatures(degree=2, include_bias=False))\n",
    "])\n",
    "\n",
    "pipeline = Pipeline([\n",
    "    ('intermediate', pipeline),\n",
    "    ('lr', LinearRegression())\n",
    "])\n",
    "\n",
    "pipeline.fit(X_train_all, y_train)\n",
    "y_pred = pipeline.predict(X_test_all)\n",
    "\n",
    "mse = mean_squared_error(y_test, y_pred)\n",
    "print(f\"MSE for all_interactions: {mse:.2f}\")\n",
    "mses[\"all_interactions\"] = mse"
   ]
  },
  {
   "cell_type": "code",
   "execution_count": 267,
   "metadata": {},
   "outputs": [
    {
     "name": "stdout",
     "output_type": "stream",
     "text": [
      "MSE for all_interactions_no_sex: 24411755.06\n"
     ]
    }
   ],
   "source": [
    "X_train_no_sex = X_train_all.drop('sex', axis=1)\n",
    "X_test_no_sex = X_test_all.drop('sex', axis=1)\n",
    "\n",
    "cat = ['smoker', 'region']\n",
    "\n",
    "ct = ColumnTransformer([\n",
    "    ('num', StandardScaler(), num),\n",
    "    ('cat', OneHotEncoder(), cat),\n",
    "])\n",
    "\n",
    "pipeline = Pipeline([\n",
    "    ('ct', ct),\n",
    "    ('poly', PolynomialFeatures(degree=2, include_bias=False))\n",
    "])\n",
    "\n",
    "pipeline = Pipeline([\n",
    "    ('intermediate', pipeline),\n",
    "    ('lr', LinearRegression())\n",
    "])\n",
    "\n",
    "pipeline.fit(X_train_no_sex, y_train)\n",
    "y_pred = pipeline.predict(X_test_no_sex)\n",
    "\n",
    "mse = mean_squared_error(y_test, y_pred)\n",
    "print(f\"MSE for all_interactions_no_sex: {mse:.2f}\")\n",
    "mses[\"all_interactions_no_sex\"] = mse"
   ]
  },
  {
   "cell_type": "code",
   "execution_count": 268,
   "metadata": {},
   "outputs": [
    {
     "name": "stdout",
     "output_type": "stream",
     "text": [
      "MSE for all_interactions_no_sex_lasso: 23742419.24\n"
     ]
    },
    {
     "name": "stderr",
     "output_type": "stream",
     "text": [
      "/Library/Frameworks/Python.framework/Versions/3.10/lib/python3.10/site-packages/sklearn/linear_model/_coordinate_descent.py:631: ConvergenceWarning: Objective did not converge. You might want to increase the number of iterations, check the scale of the features or consider increasing regularisation. Duality gap: 1.649e+07, tolerance: 6.065e+06\n",
      "  model = cd_fast.enet_coordinate_descent(\n"
     ]
    }
   ],
   "source": [
    "from sklearn.linear_model import Lasso\n",
    "\n",
    "pipeline = Pipeline([\n",
    "    ('ct', ct),\n",
    "    ('poly', PolynomialFeatures(degree=2, include_bias=False))\n",
    "])\n",
    "\n",
    "pipeline = Pipeline([\n",
    "    ('intermediate', pipeline),\n",
    "    ('lasso', Lasso(alpha=1.0))\n",
    "])\n",
    "\n",
    "pipeline.fit(X_train_no_sex, y_train)\n",
    "y_pred = pipeline.predict(X_test_no_sex)\n",
    "\n",
    "mse = mean_squared_error(y_test, y_pred)\n",
    "print(f\"MSE for all_interactions_no_sex_lasso: {mse:.2f}\")\n",
    "mses[\"all_interactions_no_sex_lasso\"] = mse"
   ]
  },
  {
   "cell_type": "code",
   "execution_count": 269,
   "metadata": {},
   "outputs": [
    {
     "name": "stdout",
     "output_type": "stream",
     "text": [
      "MSE for all_interactions_no_sex_ridge: 23690869.77\n"
     ]
    }
   ],
   "source": [
    "from sklearn.linear_model import Ridge\n",
    "\n",
    "pipeline = Pipeline([\n",
    "    ('ct', ct),\n",
    "    ('poly', PolynomialFeatures(degree=2, include_bias=False))\n",
    "])\n",
    "\n",
    "pipeline = Pipeline([\n",
    "    ('intermediate', pipeline),\n",
    "    ('lasso', Ridge(alpha=1.0))\n",
    "])\n",
    "\n",
    "pipeline.fit(X_train_no_sex, y_train)\n",
    "y_pred = pipeline.predict(X_test_no_sex)\n",
    "\n",
    "mse = mean_squared_error(y_test, y_pred)\n",
    "print(f\"MSE for all_interactions_no_sex_ridge: {mse:.2f}\")\n",
    "mses[\"all_interactions_no_sex_ridge\"] = mse"
   ]
  },
  {
   "cell_type": "code",
   "execution_count": 270,
   "metadata": {},
   "outputs": [
    {
     "name": "stdout",
     "output_type": "stream",
     "text": [
      "Best model: all_interactions_no_sex_ridge\n"
     ]
    }
   ],
   "source": [
    "best_model = min(mses, key=mses.get)\n",
    "print(f\"Best model: {best_model}\")"
   ]
  },
  {
   "cell_type": "code",
   "execution_count": 271,
   "metadata": {},
   "outputs": [
    {
     "data": {
      "text/plain": [
       "<matplotlib.lines.Line2D at 0x13d070d00>"
      ]
     },
     "execution_count": 271,
     "metadata": {},
     "output_type": "execute_result"
    },
    {
     "data": {
      "image/png": "[encoded data removed]",
      "text/plain": [
       "<Figure size 1000x600 with 1 Axes>"
      ]
     },
     "metadata": {},
     "output_type": "display_data"
    }
   ],
   "source": [
    "residuals = y_test - y_pred\n",
    "\n",
    "plt.figure(figsize=(10, 6))\n",
    "sns.scatterplot(x=y_pred, y=residuals)\n",
    "\n",
    "plt.xlabel('Predicted Charges')\n",
    "plt.ylabel('Residuals')\n",
    "plt.axhline(y=0, color='red', linestyle='--')"
   ]
  },
  {
   "cell_type": "markdown",
   "metadata": {},
   "source": [
    "Best model I could find was using Ridge regression with an alpha of 1.0 with all explanatory variables besides sex and their interactions."
   ]
  }
 ],
 "metadata": {
  "kernelspec": {
   "display_name": "Python 3",
   "language": "python",
   "name": "python3"
  },
  "language_info": {
   "codemirror_mode": {
    "name": "ipython",
    "version": 3
   },
   "file_extension": ".py",
   "mimetype": "text/x-python",
   "name": "python",
   "nbconvert_exporter": "python",
   "pygments_lexer": "ipython3",
   "version": "3.10.4"
  },
  "orig_nbformat": 4
 },
 "nbformat": 4,
 "nbformat_minor": 2
}

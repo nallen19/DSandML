{
  "cells": [
    {
      "cell_type": "raw",
      "metadata": {
        "id": "Wm7rfPnRrrqm"
      },
      "source": [
        "---\n",
        "title: 'Practice Activity: Basic Syntax'\n",
        "output: html\n",
        "---"
      ]
    },
    {
      "cell_type": "markdown",
      "metadata": {
        "id": "0mbR_4URrrqo"
      },
      "source": [
        "## Overview\n",
        "\n",
        "In this PA, you will will be creating and manipulating basic objects to uncover a top secret message.\n",
        "\n",
        "### Hint 1\n",
        "\n",
        "As you work through this PA, you will encounter some code that does not work as you want it to.  Don't despair!  Errors (when R is unable to run your code) and bugs (when the code doesn't do what you hoped) are a natural part of coding.  Even the best of the best deal with these problems regularly - learning to track down the issue is a skill that you can learn and practice.\n",
        "\n",
        "Google is your friend!  If an error is confusing, copy it into Google and see what other people are saying.  If you don't know how to do something, search for it.\n",
        "\n",
        "### Hint 2\n",
        "\n",
        "Just because there is no error message doesn't mean everything went smoothly.  You should be regularly printing out your objects, to see they contain the information and format that you expect.\n",
        "\n",
        "For example, if you have an object named `my_thing`, you might first want to simply look at the object by typing its name.\n",
        "\n",
        "However, you might also want to make sure it is the right **object type** and/or the right **object structure**.\n"
      ]
    },
    {
      "cell_type": "markdown",
      "metadata": {
        "id": "QpUJsmq0rrqr"
      },
      "source": [
        "## Part One: Setup\n",
        "\n",
        "Each of the following code chunks will cause an error and/or do the desired task incorrectly.  Find the mistake, and correct it to complete the intended action.\n",
        "\n",
        "\n",
        "\n",
        "\n",
        "1. Create lists containing the upper case letters, lower case letters, and some punctuation marks.\n"
      ]
    },
    {
      "cell_type": "code",
      "execution_count": 25,
      "metadata": {
        "colab": {
          "base_uri": "https://localhost:8080/",
          "height": 143
        },
        "id": "tk5bezBJrrqs",
        "outputId": "4ed6b62e-bd9b-41a0-831e-efc52b595226"
      },
      "outputs": [],
      "source": [
        "lower_case = [\"a\", \"b\", \"c\", \"d\", \"e\", \"f\", \"g\", \"h\", \"i\", \"j\", \"k\", \"l\", \"m\", \"n\", \"o\", \"p\", \"q\", \"r\", \"s\", \"t\", \"u\", \"v\", \"w\", \"x\", \"y\", \"z\"]\n",
        "\n",
        "upper_case = [\"A\", \"B\", \"C\", \"D\", \"E\", \"F\", \"G\", \"H\", \"I\", \"J\", \"K\", \"L\", \"M\", \"N\", \"O\", \"P\", \"Q\", \"R\", \"S\", \"T\", \"U\", \"V\", \"W\", \"X\", \"Y\", \"Z\"]\n",
        "\n",
        "punctuation = [\".\", \",\", \"!\", \"?\", \"'\", \"\\\"\", \"(\", \")\", \" \", \"-\", \";\", \":\"]"
      ]
    },
    {
      "cell_type": "markdown",
      "metadata": {
        "id": "ZejwK6urrrqs"
      },
      "source": [
        "2. Make one long list containing all the symbols.  Find the length of this list.\n"
      ]
    },
    {
      "cell_type": "code",
      "execution_count": 26,
      "metadata": {
        "id": "l8ZVLLXWrrqs"
      },
      "outputs": [
        {
          "data": {
            "text/plain": [
              "64"
            ]
          },
          "execution_count": 26,
          "metadata": {},
          "output_type": "execute_result"
        }
      ],
      "source": [
        "all_symbols = lower_case + upper_case + punctuation\n",
        "\n",
        "len(all_symbols)"
      ]
    },
    {
      "cell_type": "markdown",
      "metadata": {
        "id": "HvgV76Dbrrqt"
      },
      "source": [
        "3. Repeat the previous steps, but instead of using *list* type objects, use **numpy arrays**.  Don't forget to **import** the numpy library!\n"
      ]
    },
    {
      "cell_type": "code",
      "execution_count": 37,
      "metadata": {
        "id": "x9YyIMP6rrqt"
      },
      "outputs": [
        {
          "data": {
            "text/plain": [
              "array(['a', 'b', 'c', 'd', 'e', 'f', 'g', 'h', 'i', 'j', 'k', 'l', 'm',\n",
              "       'n', 'o', 'p', 'q', 'r', 's', 't', 'u', 'v', 'w', 'x', 'y', 'z',\n",
              "       'A', 'B', 'C', 'D', 'E', 'F', 'G', 'H', 'I', 'J', 'K', 'L', 'M',\n",
              "       'N', 'O', 'P', 'Q', 'R', 'S', 'T', 'U', 'V', 'W', 'X', 'Y', 'Z',\n",
              "       '.', ',', '!', '?', \"'\", '\"', '(', ')', ' ', '-', ';', ':'],\n",
              "      dtype='<U1')"
            ]
          },
          "execution_count": 37,
          "metadata": {},
          "output_type": "execute_result"
        }
      ],
      "source": [
        "import numpy as np\n",
        "\n",
        "lower_case = np.array([\"a\", \"b\", \"c\", \"d\", \"e\", \"f\", \"g\", \"h\", \"i\", \"j\", \"k\", \"l\", \"m\", \"n\", \"o\", \"p\", \"q\", \"r\", \"s\", \"t\", \"u\", \"v\", \"w\", \"x\", \"y\", \"z\"])\n",
        "\n",
        "upper_case = np.array([\"A\", \"B\", \"C\", \"D\", \"E\", \"F\", \"G\", \"H\", \"I\", \"J\", \"K\", \"L\", \"M\", \"N\", \"O\", \"P\", \"Q\", \"R\", \"S\", \"T\", \"U\", \"V\", \"W\", \"X\", \"Y\", \"Z\"])\n",
        "\n",
        "punctuation = np.array([\".\", \",\", \"!\", \"?\", \"'\", \"\\\"\", \"(\", \")\", \" \", \"-\", \";\", \":\"])\n",
        "\n",
        "## Use np.concatenate to combine into long array\n",
        "all_symbols = np.concatenate([lower_case, upper_case, punctuation])\n",
        "all_symbols"
      ]
    },
    {
      "cell_type": "markdown",
      "metadata": {
        "id": "rpbAtPlXrrqt"
      },
      "source": [
        "4. Make a **pandas data frame**, with one column called \"Symbol\" containing the `all_symbols` array.\n"
      ]
    },
    {
      "cell_type": "code",
      "execution_count": 38,
      "metadata": {
        "id": "K103ZvNVrrqu"
      },
      "outputs": [
        {
          "data": {
            "text/html": [
              "<div>\n",
              "<style scoped>\n",
              "    .dataframe tbody tr th:only-of-type {\n",
              "        vertical-align: middle;\n",
              "    }\n",
              "\n",
              "    .dataframe tbody tr th {\n",
              "        vertical-align: top;\n",
              "    }\n",
              "\n",
              "    .dataframe thead th {\n",
              "        text-align: right;\n",
              "    }\n",
              "</style>\n",
              "<table border=\"1\" class=\"dataframe\">\n",
              "  <thead>\n",
              "    <tr style=\"text-align: right;\">\n",
              "      <th></th>\n",
              "      <th>Symbol</th>\n",
              "    </tr>\n",
              "  </thead>\n",
              "  <tbody>\n",
              "    <tr>\n",
              "      <th>0</th>\n",
              "      <td>a</td>\n",
              "    </tr>\n",
              "    <tr>\n",
              "      <th>1</th>\n",
              "      <td>b</td>\n",
              "    </tr>\n",
              "    <tr>\n",
              "      <th>2</th>\n",
              "      <td>c</td>\n",
              "    </tr>\n",
              "    <tr>\n",
              "      <th>3</th>\n",
              "      <td>d</td>\n",
              "    </tr>\n",
              "    <tr>\n",
              "      <th>4</th>\n",
              "      <td>e</td>\n",
              "    </tr>\n",
              "    <tr>\n",
              "      <th>...</th>\n",
              "      <td>...</td>\n",
              "    </tr>\n",
              "    <tr>\n",
              "      <th>59</th>\n",
              "      <td>)</td>\n",
              "    </tr>\n",
              "    <tr>\n",
              "      <th>60</th>\n",
              "      <td></td>\n",
              "    </tr>\n",
              "    <tr>\n",
              "      <th>61</th>\n",
              "      <td>-</td>\n",
              "    </tr>\n",
              "    <tr>\n",
              "      <th>62</th>\n",
              "      <td>;</td>\n",
              "    </tr>\n",
              "    <tr>\n",
              "      <th>63</th>\n",
              "      <td>:</td>\n",
              "    </tr>\n",
              "  </tbody>\n",
              "</table>\n",
              "<p>64 rows × 1 columns</p>\n",
              "</div>"
            ],
            "text/plain": [
              "   Symbol\n",
              "0       a\n",
              "1       b\n",
              "2       c\n",
              "3       d\n",
              "4       e\n",
              "..    ...\n",
              "59      )\n",
              "60       \n",
              "61      -\n",
              "62      ;\n",
              "63      :\n",
              "\n",
              "[64 rows x 1 columns]"
            ]
          },
          "execution_count": 38,
          "metadata": {},
          "output_type": "execute_result"
        }
      ],
      "source": [
        "import pandas as pd\n",
        "\n",
        "symbols_df = pd.DataFrame(all_symbols, columns=[\"Symbol\"])\n",
        "\n",
        "symbols_df"
      ]
    },
    {
      "cell_type": "markdown",
      "metadata": {
        "id": "L-m2LLyHrrqu"
      },
      "source": [
        "## Part Two: Decoding the secret message.\n"
      ]
    },
    {
      "cell_type": "code",
      "execution_count": 328,
      "metadata": {
        "id": "iP7Zj5hPrrqu"
      },
      "outputs": [
        {
          "data": {
            "text/plain": [
              "array([0.39104271, 0.38644508, 0.37131377, 0.33881179, 0.37131377,\n",
              "       0.39695721, 0.35479413, 0.37573224, 0.3693288 , 0.37404822,\n",
              "       0.37573224, 0.37490299, 0.37490299, 0.40018665, 0.40307943,\n",
              "       0.37490299, 0.38531114, 0.38024665, 0.40542   , 0.39915133,\n",
              "       0.38644508, 0.3858839 , 0.40757858, 0.39457479, 0.3924204 ,\n",
              "       0.39196872, 0.40368332, 0.39330231, 0.40052335, 0.41099418,\n",
              "       0.40597557, 0.39915133, 0.40214824, 0.39695721, 0.40246212,\n",
              "       0.41362081, 0.41403541, 0.50672129, 0.46904194, 0.4189279 ,\n",
              "       0.40513799, 0.50677976, 0.41403541, 0.46026337, 0.44516294,\n",
              "       0.41006039, 0.50685267, 0.40485308, 0.43565499, 0.40982195,\n",
              "       0.50691085, 0.41751216, 0.42308635, 0.43400049, 0.40933885,\n",
              "       0.43181048, 0.4148465 , 0.50701239, 0.42481402, 0.43765951,\n",
              "       0.50705579, 0.48348599, 0.42352845, 0.41751216, 0.50711356,\n",
              "       0.45815983, 0.41403541, 0.41504562, 0.41927084, 0.50976041,\n",
              "       0.50719998, 0.4658871 , 0.43527447, 0.43546538, 0.50725745,\n",
              "       0.43809559, 0.42943293, 0.43843959, 0.45144177, 0.46293566,\n",
              "       0.50734343, 0.45947306, 0.42367426, 0.44995774, 0.42424999,\n",
              "       0.50741487, 0.48431772, 0.43001775, 0.42536683, 0.50747189,\n",
              "       0.42293741, 0.44482542, 0.45095585, 0.44509577, 0.42990177,\n",
              "       0.44536351, 0.4588652 , 0.42772674, 0.45350415, 0.50123071,\n",
              "       0.50762811, 0.50764227, 0.50765642, 0.46785231, 0.44462092,\n",
              "       0.42859293, 0.50771295, 0.48499763, 0.43449742, 0.43059051,\n",
              "       0.50776936, 0.44371693, 0.44754076, 0.44399823, 0.43170177,\n",
              "       0.50783972, 0.45345442, 0.42966834, 0.48534724, 0.4365841 ,\n",
              "       0.45560881, 0.50792392, 0.44874606, 0.45931226, 0.4855361 ,\n",
              "       0.43630862, 0.45443261, 0.43191878, 0.43245401, 0.43479137,\n",
              "       0.50082663, 0.50806368, 0.50547189, 0.47106801, 0.43574932,\n",
              "       0.46349614, 0.4337992 , 0.45547027, 0.43649258, 0.50817499,\n",
              "       0.48603353, 0.44033896, 0.43721647, 0.50823048, 0.4824714 ,\n",
              "       0.43556035, 0.43603037, 0.43621618, 0.43826812, 0.45655973,\n",
              "       0.46451749, 0.4519719 , 0.43757146, 0.44615158, 0.5021944 ,\n",
              "       0.50839627, 0.44944491, 0.46797064, 0.50843757, 0.45898784,\n",
              "       0.45290136, 0.45149524, 0.50325039, 0.50850626, 0.50851997,\n",
              "       0.50853368, 0.4945512 , 0.44420735, 0.44151119, 0.50858846,\n",
              "       0.44698083, 0.44009846, 0.46595066, 0.4601071 , 0.50865678,\n",
              "       0.48709158, 0.44543004, 0.44104822, 0.48718042, 0.50872493,\n",
              "       0.44173981, 0.44716873, 0.48729843, 0.44371693, 0.50270629,\n",
              "       0.50880649, 0.48741595, 0.44685485, 0.4444149 , 0.50886073,\n",
              "       0.44357521, 0.41582815, 0.27777778, 0.4519719 , 0.44135772,\n",
              "       0.50615966, 0.48130898, 0.39330231, 0.27777778, 0.48130898,\n",
              "       0.50615966, 0.33881179, 0.27777778, 0.48130898, 0.33881179,\n",
              "       0.39330231, 0.5004074 , 0.50615966, 0.46290025, 0.367191  ,\n",
              "       0.4519719 , 0.27777778, 0.43835399, 0.367191  , 0.50615966,\n",
              "       0.48130898, 0.39330231, 0.367191  , 0.50615966, 0.47686216,\n",
              "       0.44691791, 0.31628595, 0.40569917, 0.44691791, 0.31628595,\n",
              "       0.50615966, 0.31628595, 0.39984581, 0.43835399, 0.35479413,\n",
              "       0.499388  , 0.50615966, 0.27777778, 0.42439207, 0.35479413,\n",
              "       0.50615966, 0.44135772, 0.39330231, 0.44691791, 0.42439207,\n",
              "       0.50615966, 0.50615966, 0.50615966, 0.49048008, 0.39330231,\n",
              "       0.367191  , 0.50615966, 0.37731997, 0.43835399, 0.44691791,\n",
              "       0.42027496, 0.39984581, 0.42822501, 0.44691791, 0.44135772,\n",
              "       0.50615966, 0.46290025, 0.27777778, 0.42439207, 0.35479413,\n",
              "       0.367191  , 0.43835399, 0.44135772, 0.42439207, 0.27777778,\n",
              "       0.48130898, 0.33881179, 0.39330231, 0.5004074 , 0.50335795,\n",
              "       0.50615966, 0.4736867 , 0.367191  , 0.50615966, 0.48130898,\n",
              "       0.42822501, 0.42822501, 0.41099418, 0.50615966, 0.39330231,\n",
              "       0.39984581, 0.44135772, 0.50615966, 0.44950236, 0.42822501,\n",
              "       0.43835399, 0.43181048, 0.27777778, 0.41582815, 0.50615966,\n",
              "       0.44135772, 0.4519719 , 0.42822501, 0.43835399, 0.35479413,\n",
              "       0.50615966, 0.39984581, 0.42439207, 0.50615966, 0.39330231,\n",
              "       0.27777778, 0.42439207, 0.35479413, 0.50795193, 0.50615966,\n",
              "       0.50615966, 0.50615966, 0.4798659 , 0.42822501, 0.42439207,\n",
              "       0.3858839 , 0.50615966, 0.48130898, 0.39984581, 0.42027496,\n",
              "       0.367191  , 0.50615966, 0.48130898, 0.39330231, 0.367191  ,\n",
              "       0.50615966, 0.42027496, 0.27777778, 0.42439207, 0.45433632,\n",
              "       0.42822501, 0.42027496, 0.367191  , 0.50615966, 0.37731997,\n",
              "       0.42822501, 0.367191  , 0.50615966, 0.39330231, 0.367191  ,\n",
              "       0.50615966, 0.44135772, 0.42822501, 0.44691791, 0.3858839 ,\n",
              "       0.39330231, 0.48130898, 0.50706302, 0.50615966, 0.48925903,\n",
              "       0.42822501, 0.50615966, 0.43835399, 0.367191  , 0.44135772,\n",
              "       0.48130898, 0.367191  , 0.35479413, 0.50615966, 0.39330231,\n",
              "       0.367191  , 0.50615966, 0.31628595, 0.45660421, 0.50615966,\n",
              "       0.48130898, 0.39330231, 0.367191  , 0.50615966, 0.49048008,\n",
              "       0.44691791, 0.42027496, 0.48130898, 0.44691791, 0.42027496,\n",
              "       0.50615966, 0.48130898, 0.43835399, 0.367191  , 0.367191  ,\n",
              "       0.50615966, 0.50615966, 0.50615966, 0.46087983, 0.42439207,\n",
              "       0.35479413, 0.50615966, 0.44135772, 0.48130898, 0.42822501,\n",
              "       0.42822501, 0.35479413, 0.50615966, 0.27777778, 0.4519719 ,\n",
              "       0.39330231, 0.39984581, 0.41582815, 0.367191  , 0.50615966,\n",
              "       0.39984581, 0.42439207, 0.50615966, 0.48130898, 0.41944073,\n",
              "       0.43843959, 0.45259498, 0.41677629, 0.41944073, 0.48307774,\n",
              "       0.49932124, 0.50615966, 0.46087983, 0.42439207, 0.35479413,\n",
              "       0.499388  , 0.50615966, 0.27777778, 0.44135772, 0.50615966,\n",
              "       0.39984581, 0.42439207, 0.50615966, 0.44691791, 0.37731997,\n",
              "       0.37731997, 0.39984581, 0.44135772, 0.39330231, 0.50615966,\n",
              "       0.48130898, 0.39330231, 0.42822501, 0.44691791, 0.3858839 ,\n",
              "       0.39330231, 0.48130898, 0.50615966, 0.39330231, 0.367191  ,\n",
              "       0.50615966, 0.44135772, 0.48130898, 0.42822501, 0.42822501,\n",
              "       0.35479413, 0.499388  , 0.50615966, 0.50615966, 0.50615966,\n",
              "       0.49048008, 0.39330231, 0.367191  , 0.50615966, 0.47686216,\n",
              "       0.27777778, 0.31628595, 0.31628595, 0.367191  , 0.43835399,\n",
              "       0.4519719 , 0.42822501, 0.33881179, 0.41099418, 0.499388  ,\n",
              "       0.50615966, 0.4519719 , 0.39984581, 0.48130898, 0.39330231,\n",
              "       0.39196872, 0.32248439, 0.367191  , 0.32248439, 0.35956775,\n",
              "       0.39196872, 0.35300139, 0.32754887, 0.39196872, 0.32754887,\n",
              "       0.34680296, 0.27777778, 0.34902637, 0.32248439, 0.38858289,\n",
              "       0.39196872, 0.37131377, 0.27777778, 0.34902637, 0.32248439,\n",
              "       0.39196872, 0.36487484, 0.33554004, 0.33881179, 0.32754887,\n",
              "       0.32754887, 0.34680296, 0.33881179, 0.35108493, 0.33183084,\n",
              "       0.39196872, 0.37954338, 0.33554004, 0.35806588, 0.35300139,\n",
              "       0.36234785, 0.33183084, 0.33554004, 0.39196872, 0.37954338,\n",
              "       0.33554004, 0.32248439, 0.39196872, 0.37954338, 0.36234785,\n",
              "       0.34680296, 0.33183084, 0.32248439, 0.367191  , 0.39196872,\n",
              "       0.36487484, 0.35300139, 0.35300139, 0.31628595, 0.38858289,\n",
              "       0.39196872, 0.39196872, 0.39196872, 0.3693288 , 0.35108493,\n",
              "       0.31628595, 0.39196872, 0.29703187, 0.36234785, 0.35806588,\n",
              "       0.29703187, 0.34680296, 0.32248439, 0.31628595, 0.39196872,\n",
              "       0.27777778, 0.35956775, 0.39196872, 0.33881179, 0.37954338,\n",
              "       0.39196872, 0.30829479, 0.27777778, 0.34902637, 0.32248439,\n",
              "       0.38909259, 0.39196872, 0.38093256, 0.35108493, 0.32248439,\n",
              "       0.38858289, 0.39196872, 0.37954338, 0.36487484, 0.35300139,\n",
              "       0.38909259, 0.39196872, 0.38093256, 0.35108493, 0.32248439,\n",
              "       0.38858289, 0.39196872, 0.37954338, 0.36487484, 0.35300139,\n",
              "       0.38909259, 0.39196872, 0.3693288 , 0.35108493, 0.31628595,\n",
              "       0.39196872, 0.37954338, 0.33554004, 0.33881179, 0.33374731,\n",
              "       0.34309376, 0.31257675, 0.31628595, 0.37271463, 0.25852369,\n",
              "       0.33183084, 0.29703187, 0.37271463, 0.36028929, 0.31628595,\n",
              "       0.33881179, 0.33374731, 0.34309376, 0.31257675, 0.31628595,\n",
              "       0.37271463, 0.37271463, 0.37271463, 0.36487484, 0.31628595,\n",
              "       0.3032303 , 0.37271463, 0.34438598, 0.33374731, 0.33881179,\n",
              "       0.33554004, 0.25852369, 0.32754887, 0.37271463, 0.27777778,\n",
              "       0.32754887, 0.25852369, 0.29703187, 0.3032303 , 0.37271463,\n",
              "       0.34562075, 0.3032303 , 0.33183084, 0.36028929, 0.37271463,\n",
              "       0.34031366, 0.33183084, 0.31955771, 0.2890407 , 0.32513189,\n",
              "       0.3032303 , 0.33881179, 0.37316631, 0.34031366, 0.33183084,\n",
              "       0.25852369, 0.2890407 , 0.32513189, 0.3698385 , 0.37271463,\n",
              "       0.35647815, 0.3032303 , 0.37271463, 0.32754887, 0.3032303 ,\n",
              "       0.30829479, 0.36028929, 0.37271463, 0.31955771, 0.36028929,\n",
              "       0.37271463, 0.29703187, 0.3032303 , 0.25852369, 0.29703187,\n",
              "       0.3693288 , 0.37271463, 0.25852369, 0.33183084, 0.29703187,\n",
              "       0.37271463, 0.34562075, 0.31955771, 0.36028929, 0.31628595,\n",
              "       0.37271463, 0.31955771, 0.36028929, 0.34031366, 0.37271463,\n",
              "       0.31628595, 0.3032303 , 0.25852369, 0.29703187, 0.37271463,\n",
              "       0.37271463, 0.37271463, 0.35647815, 0.3032303 , 0.37271463,\n",
              "       0.34562075, 0.3032303 , 0.33183084, 0.36028929, 0.37271463,\n",
              "       0.31257675, 0.25852369, 0.32754887, 0.34309376, 0.32977228,\n",
              "       0.33554004, 0.31628595, 0.31955771, 0.33183084, 0.31257675,\n",
              "       0.37271463, 0.27777778, 0.25852369, 0.2890407 , 0.32513189,\n",
              "       0.36880958, 0.37271463, 0.37131377, 0.35007471, 0.33183084,\n",
              "       0.29703187, 0.37271463, 0.31628595, 0.25852369, 0.34031366,\n",
              "       0.36028929, 0.37271463, 0.36028929, 0.31628595, 0.33374731,\n",
              "       0.34309376, 0.37271463, 0.34031366, 0.32754887, 0.25852369,\n",
              "       0.31955771, 0.33183084, 0.37271463, 0.36028929, 0.31628595,\n",
              "       0.3032303 , 0.37271463, 0.35806588, 0.25852369, 0.27777778,\n",
              "       0.27777778, 0.3032303 , 0.33881179, 0.34562075, 0.33374731,\n",
              "       0.2890407 , 0.32513189, 0.37033901, 0.37271463, 0.37271463,\n",
              "       0.37271463, 0.35205968, 0.33374731, 0.32977228, 0.3032303 ,\n",
              "       0.37271463, 0.36028929, 0.33374731, 0.37271463, 0.32977228,\n",
              "       0.34793691, 0.37271463, 0.25852369, 0.33881179, 0.32977228,\n",
              "       0.34031366, 0.3693288 , 0.37271463, 0.32977228, 0.34793691,\n",
              "       0.37271463, 0.27777778, 0.3032303 , 0.25852369, 0.32977228,\n",
              "       0.31955771, 0.34031366, 0.31628595, 0.37271463, 0.27777778,\n",
              "       0.33374731, 0.34793691, 0.3698385 , 0.37271463, 0.36167847,\n",
              "       0.37271463, 0.30829479, 0.33881179, 0.25852369, 0.27777778,\n",
              "       0.32248439, 0.33374731, 0.34309376, 0.34031366, 0.37271463,\n",
              "       0.29703187, 0.25852369, 0.34793691, 0.3698385 , 0.37271463,\n",
              "       0.35205968, 0.25852369, 0.32754887, 0.32754887, 0.33374731,\n",
              "       0.33374731, 0.31628595, 0.3698385 , 0.37271463, 0.35205968,\n",
              "       0.25852369, 0.32754887, 0.32754887, 0.25852369, 0.34793691,\n",
              "       0.3698385 , 0.37131377, 0.37271463, 0.37271463, 0.37271463,\n",
              "       0.35647815, 0.3032303 , 0.37271463, 0.2890407 , 0.31628595,\n",
              "       0.33374731, 0.33881179, 0.36028929, 0.32754887, 0.3032303 ,\n",
              "       0.29703187, 0.37271463, 0.31955771, 0.33183084, 0.37271463,\n",
              "       0.31628595, 0.31955771, 0.34031366, 0.37271463, 0.32248439,\n",
              "       0.33374731, 0.34793691, 0.36880958, 0.37271463, 0.37083067,\n",
              "       0.36487484, 0.34562075, 0.25852369, 0.34031366, 0.37271463,\n",
              "       0.27777778, 0.33881179, 0.31955771, 0.32754887, 0.32754887,\n",
              "       0.31955771, 0.31257675, 0.3693288 , 0.37271463, 0.25852369,\n",
              "       0.33183084, 0.29703187, 0.37271463, 0.36028929, 0.31628595,\n",
              "       0.3032303 , 0.37271463, 0.34031366, 0.32754887, 0.31955771,\n",
              "       0.36028929, 0.31628595, 0.34793691, 0.37271463, 0.36028929,\n",
              "       0.33374731, 0.34438598, 0.3032303 , 0.34031366, 0.37271463,\n",
              "       0.37271463, 0.37271463, 0.35300139, 0.31955771, 0.29703187,\n",
              "       0.37271463, 0.31257675, 0.34793691, 0.33881179, 0.3032303 ,\n",
              "       0.37271463, 0.25852369, 0.33183084, 0.29703187, 0.37271463,\n",
              "       0.31257675, 0.31955771, 0.32977228, 0.27777778, 0.32754887,\n",
              "       0.3032303 , 0.37271463, 0.31955771, 0.33183084, 0.37271463,\n",
              "       0.36028929, 0.31628595, 0.3032303 , 0.37271463, 0.34562075,\n",
              "       0.25852369, 0.27777778, 0.3032303 , 0.37404822, 0.37271463,\n",
              "       0.35007471, 0.32754887, 0.32754887, 0.37271463, 0.32977228,\n",
              "       0.31955771, 0.32977228, 0.34031366, 0.34793691, 0.37271463,\n",
              "       0.34562075, 0.3032303 , 0.33881179, 0.3032303 , 0.37271463,\n",
              "       0.36028929, 0.31628595, 0.3032303 , 0.37271463, 0.27777778,\n",
              "       0.33374731, 0.33881179, 0.33374731, 0.31257675, 0.33374731,\n",
              "       0.34438598, 0.3032303 , 0.34031366, 0.3693288 , 0.37271463,\n",
              "       0.37271463, 0.37271463, 0.35007471, 0.33183084, 0.29703187,\n",
              "       0.37271463, 0.36028929, 0.31628595, 0.3032303 , 0.37271463,\n",
              "       0.32977228, 0.33374731, 0.32977228, 0.3032303 , 0.37271463,\n",
              "       0.33881179, 0.25852369, 0.36028929, 0.31628595, 0.34031366,\n",
              "       0.37271463, 0.33374731, 0.34309376, 0.36028929, 0.31257675,\n",
              "       0.33881179, 0.25852369, 0.27777778, 0.3032303 , 0.36880958])"
            ]
          },
          "execution_count": 328,
          "metadata": {},
          "output_type": "execute_result"
        }
      ],
      "source": [
        "top_secret = pd.read_csv(\"./PA_Secret_Code\", header=None)\n",
        "\n",
        "top_secret = top_secret[0].to_numpy()\n",
        "top_secret"
      ]
    },
    {
      "cell_type": "code",
      "execution_count": 329,
      "metadata": {},
      "outputs": [
        {
          "data": {
            "text/plain": [
              "352"
            ]
          },
          "execution_count": 329,
          "metadata": {},
          "output_type": "execute_result"
        }
      ],
      "source": [
        "top_secret += 14\n",
        "top_secret = top_secret * 18 - 257\n",
        "top_secret = np.exp(top_secret)\n",
        "top_secret **= 2\n",
        "np.sum(top_secret < 17)"
      ]
    },
    {
      "cell_type": "code",
      "execution_count": 330,
      "metadata": {},
      "outputs": [
        {
          "data": {
            "text/plain": [
              "0"
            ]
          },
          "execution_count": 330,
          "metadata": {},
          "output_type": "execute_result"
        }
      ],
      "source": [
        "top_secret = top_secret.reshape(5, -1).T\n",
        "evens = np.arange(2, 384, 2)\n",
        "top_secret[:,0] = top_secret[:,0] - evens\n",
        "top_secret[17:24, 2] = top_secret[17:24, 2] - 100\n",
        "top_secret[:,3:5] = top_secret[:,3:5] * 2\n",
        "top_secret = top_secret.T.flatten()\n",
        "sum(top_secret[500:955] >= 100)"
      ]
    },
    {
      "cell_type": "code",
      "execution_count": 331,
      "metadata": {},
      "outputs": [
        {
          "data": {
            "text/plain": [
              "344"
            ]
          },
          "execution_count": 331,
          "metadata": {},
          "output_type": "execute_result"
        }
      ],
      "source": [
        "top_secret[37:465] = np.sqrt(top_secret[37:465])\n",
        "top_secret = np.round(top_secret)\n",
        "top_secret[top_secret == 39] = 20\n",
        "np.sum(top_secret % 2 == 0)"
      ]
    },
    {
      "cell_type": "markdown",
      "metadata": {
        "id": "T3ui38Z9rrqu"
      },
      "source": [
        "### Hint\n",
        "\n",
        "Recall that basic math operations are **vectorized**.  This means you don't have to repeat the process for each item in a list; you can apply the math to the whole thing at once.\n",
        "\n",
        "### Instructions\n",
        "\n",
        "By altering this top secret set of numbers, you will be able to create a message.  Write your own code to complete the steps below.\n",
        "\n",
        "1. Add 14 to every number.\n",
        "2. Multiply every number by 18, then subtract 257.\n",
        "3. Exponentiate every number.  (That is, do e^[number].  You may have to Google how to do this!)\n",
        "4. Square every number.\n",
        "\n",
        "**Checkpoint:** Headquarters has informed you that at this stage of decoding, there should be 352 numbers in the secret message that are below 17.  Write code to check if this is true for your data.\n",
        "\n",
        "\n",
        "5. Turn your one-dimensional array of numbers into a two-dimensional array (matrix) with 5 columns.\n",
        "6. Separately from your top secret numbers, create an array of all the even numbers between 1 and 382. Name it \"evens\". That is, \"evens\" should contain 2, 4, 6, 8 ..., 382.\n",
        "7. Subtract the \"evens\" vector from the first column of your secret message matrix.\n",
        "8. Subtract 100 from all numbers in the 18-24th rows of the 3rd column.\n",
        "9. Multiply all numbers in the 4th and 5th column by 2.\n",
        "10. Turn your matrix back into a one dimensional array.\n",
        "\n",
        "\n",
        "**Checkpoint:** Headquarters has informed you that at this stage of decoding, all numbers in indices 500 and beyond are below 100.  Write code to check if your numbers fulfill this requirement.\n",
        "\n",
        "11. Take the square root of all numbers in indices 38 to 465.\n",
        "12. Round all numbers to the nearest whole number.\n",
        "13. Replace all instances of the number 39 with 20.\n",
        "\n",
        "**Checkpoint:** Headquarters has informed you that your final message should have 344 even numbers.  Write code to check if your numbers fulfill this requirement.\n",
        "\n",
        "## Part 3: The secret message!\n",
        "\n",
        "Run the following to discover the final message!  Google the first line of this message, if you do not recognize it, to see what it is.\n"
      ]
    },
    {
      "cell_type": "code",
      "execution_count": 332,
      "metadata": {
        "id": "v_bB8VNvrrqu"
      },
      "outputs": [
        {
          "data": {
            "text/plain": [
              "'\\'Twas brillig, and the slithy toves   Did gyre and gimble in the wabe: All mimsy were the borogoves,   And the mome raths outgrabe. \"Beware the Jabberwock, my son!   The jaws that bite, the claws that catch! Beware the Jubjub bird, and shun   The frumious Bandersnatch!\" He took his vorpal sword in hand;   Long time the manxome foe he sought- So rested he by the Tumtum tree   And stood awhile in thought. And, as in uffish thought he stood,   The Jabberwock, with eyes of flame, Came whiffling through the tulgey wood,   And burbled as it came! One, two! One, two! And through and through   The vorpal blade went snicker-snack! He left it dead, and with its head   He went galumphing back. \"And hast thou slain the Jabberwock?   Come to my arms, my beamish boy! O frabjous day! Callooh! Callay!\"   He chortled in his joy. \\'Twas brillig, and the slithy toves   Did gyre and gimble in the wabe: All mimsy were the borogoves,   And the mome raths outgrabe.'"
            ]
          },
          "execution_count": 332,
          "metadata": {},
          "output_type": "execute_result"
        }
      ],
      "source": [
        "top_secret -= 1\n",
        "''.join(map(str, symbols_df.loc[top_secret]['Symbol']))"
      ]
    }
  ],
  "metadata": {
    "colab": {
      "provenance": []
    },
    "kernelspec": {
      "display_name": "Python 3 (ipykernel)",
      "language": "python",
      "name": "python3"
    },
    "language_info": {
      "codemirror_mode": {
        "name": "ipython",
        "version": 3
      },
      "file_extension": ".py",
      "mimetype": "text/x-python",
      "name": "python",
      "nbconvert_exporter": "python",
      "pygments_lexer": "ipython3",
      "version": "3.10.4"
    }
  },
  "nbformat": 4,
  "nbformat_minor": 0
}
